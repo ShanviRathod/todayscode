{
 "cells": [
  {
   "cell_type": "markdown",
   "id": "1bbb9a42",
   "metadata": {},
   "source": [
    "# Q1. Difference Between append and insert in python\n",
    "\n",
    "\n",
    "append method can be use for adding new element in the list only but by using insert we can add as well as can modify already occupied position.\n",
    "append method takes one argument (which you have to insert in the list) \n",
    "while insert method takes two elements (first will be the position of element and second will the element itself),\n",
    "\n",
    "You can insert element at any position, but till will be store just after the last element position. Reason behind this logic is list is store data in ordered format. \n",
    "\n",
    "Below are examples for both methods use:\n"
   ]
  },
  {
   "cell_type": "code",
   "execution_count": 1,
   "id": "9e3aea04",
   "metadata": {},
   "outputs": [
    {
     "name": "stdout",
     "output_type": "stream",
     "text": [
      "[1, 2, 3, 4, 5, 6]\n"
     ]
    }
   ],
   "source": [
    "# Use of Append:\n",
    "\n",
    "list = [1,2,3,4,5]\n",
    "\n",
    "list.append(6)\n",
    "\n",
    "print(list)         # [1,2,3,4,5,6]\n",
    "\n"
   ]
  },
  {
   "cell_type": "code",
   "execution_count": 2,
   "id": "d014efbd",
   "metadata": {},
   "outputs": [
    {
     "name": "stdout",
     "output_type": "stream",
     "text": [
      "[1, 10, 2, 3, 4, 5, 10, 50]\n"
     ]
    }
   ],
   "source": [
    "# Use of Insert:\n",
    "\n",
    "list = [1,2,3,4,5]\n",
    "\n",
    "list.insert(5, 10)          # [1,2,3,4,5,10]\n",
    "\n",
    "list.insert(1, 10)         # [1,10,3,4,5]\n",
    "list.insert(100, 50)       # [1,2,3,4,5,10]\n",
    "print(list)"
   ]
  },
  {
   "cell_type": "markdown",
   "id": "39060f07",
   "metadata": {},
   "source": [
    "# 2.Differentiate remove, del, and pop in python\n",
    "In python del is a keyword and remove(), pop() are in-built methods. \n",
    "The purpose of these three are same but the behavior is different \n",
    "remove() method delete values or object from the list using value \n",
    "and del and pop() deletes values or object from the list using an index."
   ]
  },
  {
   "cell_type": "markdown",
   "id": "5791d11f",
   "metadata": {},
   "source": [
    "------->> del Keyword:\n",
    "The del keyword delete any variable, list of values from a list. \n",
    "\n",
    "Syntax:\n",
    "\n",
    "del list_name[index]  # To delete single value\n",
    "del list_name        # To delete whole list\n",
    "\n",
    "------->> remove() Method:\n",
    "The remove() method removes the first matching value from the list.\n",
    "\n",
    "Syntax:\n",
    "\n",
    "list_name.remove(value)\n",
    "\n",
    "------->> pop() Method:\n",
    "The pop() method like del deletes value at a particular index. But pop() method returns deleted value from the list.\n",
    "\n",
    "Syntax:\n",
    "\n",
    "list_name.pop(index)"
   ]
  },
  {
   "cell_type": "markdown",
   "id": "9a6b8f1b",
   "metadata": {},
   "source": [
    "# 3.Explain the range function in python\n",
    "The range() function returns a sequence of numbers, \n",
    "starting from 0 by default, \n",
    "and increments by 1 (by default),\n",
    "and stops before a specified number. \n",
    "\n",
    "range(start, stop, step)"
   ]
  },
  {
   "cell_type": "markdown",
   "id": "ea252a8a",
   "metadata": {},
   "source": [
    "# 4.Difference between == and = operator in python\n",
    "Difference between == and = in Python. \n",
    "In Python and many other programming languages, a single equal mark is used to assign a value to a variable, \n",
    "whereas two consecutive equal marks is used to check whether 2 expressions give the same value .\n",
    "(x==y) is False because we assigned different values to x and y.\n",
    "\n",
    "= is an assignment operator\n",
    "\n",
    "== is an equality or comapairsion  operator\n"
   ]
  },
  {
   "cell_type": "markdown",
   "id": "b31928d5",
   "metadata": {},
   "source": [
    "# 5.How to reverse a string in python using indexing. Explain with example."
   ]
  },
  {
   "cell_type": "code",
   "execution_count": 3,
   "id": "a1d2f326",
   "metadata": {},
   "outputs": [
    {
     "name": "stdout",
     "output_type": "stream",
     "text": [
      "dohtaR ivnahS\n"
     ]
    }
   ],
   "source": [
    "x=\"Shanvi Rathod\"\n",
    "print(x[::-1])"
   ]
  },
  {
   "cell_type": "markdown",
   "id": "404f38de",
   "metadata": {},
   "source": [
    "# 6.Write a Program to print all prime numbers from 10-50 (jiske sirf 2 hi fector ho vo prime number)\n",
    "\n",
    "A prime number is a whole number greater than 1 whose only factors are 1 and itself.(jiske sirf 2 hi fector ho) \n",
    "A factor is a whole number that can be divided evenly(समान रूप se) into another number. \n",
    "The first few prime numbers are 2, 3, 5, 7, 11, 13, 17, 19, 23 and 29."
   ]
  },
  {
   "cell_type": "code",
   "execution_count": 12,
   "id": "0a12e049",
   "metadata": {},
   "outputs": [
    {
     "name": "stdout",
     "output_type": "stream",
     "text": [
      "prime num = 11\n",
      "prime num = 13\n",
      "prime num = 17\n",
      "prime num = 19\n",
      "prime num = 23\n",
      "prime num = 29\n",
      "prime num = 31\n",
      "prime num = 37\n",
      "prime num = 41\n",
      "prime num = 43\n",
      "prime num = 47\n"
     ]
    }
   ],
   "source": [
    "for num in range(10,51):\n",
    "    if num>1:\n",
    "        for i in range(2,num):\n",
    "            if num%i==0:\n",
    "                break\n",
    "        else:\n",
    "            print(\"prime num =\",num)"
   ]
  },
  {
   "cell_type": "code",
   "execution_count": 5,
   "id": "509300bc",
   "metadata": {},
   "outputs": [
    {
     "name": "stdout",
     "output_type": "stream",
     "text": [
      "Enter num= 12\n",
      "ye prime number nhi he kyuki iske fector 2 se jyda he==>> 2\n"
     ]
    }
   ],
   "source": [
    "num=int(input(\"Enter num= \"))\n",
    "if num>1:\n",
    "    for i in range(2,num):\n",
    "        if num%i==0:\n",
    "            print(\"ye prime number nhi he kyuki iske fector 2 se jyda he==>>\",i )\n",
    "            break\n",
    "    else:\n",
    "        print(\"ye ek prime num he==>> \",num)\n",
    "else:\n",
    "    print(\"ye invalid num he! kyuki yeh 1 ya 1 se less than he\")\n",
    "    "
   ]
  },
  {
   "cell_type": "markdown",
   "id": "646e7705",
   "metadata": {},
   "source": [
    "# 7.How to print sum of the numbers starting from 1 to 100"
   ]
  },
  {
   "cell_type": "code",
   "execution_count": 19,
   "id": "958837eb",
   "metadata": {},
   "outputs": [
    {
     "name": "stdout",
     "output_type": "stream",
     "text": [
      "5050\n"
     ]
    }
   ],
   "source": [
    "l=0\n",
    "for i in range(1,101):\n",
    "#     print(i)\n",
    "    l=l+i\n",
    "print(l)    "
   ]
  },
  {
   "cell_type": "markdown",
   "id": "d4f043b3",
   "metadata": {},
   "source": [
    "# 8.What is the output, Suppose list1 is [1, 3, 2], What is list1 * 2?"
   ]
  },
  {
   "cell_type": "code",
   "execution_count": 29,
   "id": "77972e7b",
   "metadata": {},
   "outputs": [
    {
     "data": {
      "text/plain": [
       "[1, 3, 2, 1, 3, 2, 1, 3, 2]"
      ]
     },
     "execution_count": 29,
     "metadata": {},
     "output_type": "execute_result"
    }
   ],
   "source": [
    "list1=[1,3,2]\n",
    "list1*3\n"
   ]
  },
  {
   "cell_type": "markdown",
   "id": "6c5d9b23",
   "metadata": {},
   "source": [
    "# 9.Can you write a program to find the average of numbers in a list in Python?"
   ]
  },
  {
   "cell_type": "code",
   "execution_count": 35,
   "id": "993ae067",
   "metadata": {},
   "outputs": [
    {
     "name": "stdout",
     "output_type": "stream",
     "text": [
      "average 37\n"
     ]
    }
   ],
   "source": [
    "num=[10,20,50,40,66]\n",
    "a=0\n",
    "for i in num:\n",
    "    a=i+a\n",
    "# print(a)    \n",
    "average=a//len(num)\n",
    "print(\"average\",average)"
   ]
  },
  {
   "cell_type": "markdown",
   "id": "82256900",
   "metadata": {},
   "source": [
    "# 10.WAP to check a number is positive , negative or zero."
   ]
  },
  {
   "cell_type": "code",
   "execution_count": 38,
   "id": "245bad81",
   "metadata": {},
   "outputs": [
    {
     "name": "stdout",
     "output_type": "stream",
     "text": [
      "Enter Number: 0\n",
      "number is zero-->> 0\n"
     ]
    }
   ],
   "source": [
    "num=int(input(\"Enter Number: \"))\n",
    "if num>0:\n",
    "    print(\"positive num-->>\",num)\n",
    "elif num<0:\n",
    "    print(\"nagative num-->>\",num)\n",
    "else:\n",
    "    print(\"number is zero-->>\",num)"
   ]
  },
  {
   "cell_type": "markdown",
   "id": "5fd70c77",
   "metadata": {},
   "source": [
    "# 11.1WAP to check a number is divisible by 5 and 11 or not"
   ]
  },
  {
   "cell_type": "code",
   "execution_count": 43,
   "id": "35131dd5",
   "metadata": {},
   "outputs": [
    {
     "name": "stdout",
     "output_type": "stream",
     "text": [
      "Enter number7\n",
      "num is not divisible\n"
     ]
    }
   ],
   "source": [
    "num=int(input(\"Enter number\"))\n",
    "if num%5==0 and num%11==0:\n",
    "    print(\"number is divisible by 5 and 11\")\n",
    "else:\n",
    "    print(\"num is not divisible\")"
   ]
  },
  {
   "cell_type": "markdown",
   "id": "bce793de",
   "metadata": {},
   "source": [
    "# 12.WAP to calculate profit & loss."
   ]
  },
  {
   "cell_type": "code",
   "execution_count": null,
   "id": "bbc3bb1f",
   "metadata": {},
   "outputs": [
    {
     "name": "stdout",
     "output_type": "stream",
     "text": [
      "enter product price=45\n"
     ]
    }
   ],
   "source": [
    "product_price=float(input(\"enter product price=\"))\n",
    "product_selling_price=float(input(\"enter product price=\"))\n",
    "\n",
    "if product_price>product_selling_price:\n",
    "    loss=product_price-product_selling_price\n",
    "    print(\"loss=>>\",loss)\n",
    "else:\n",
    "    profit=product_selling_price-product_price\n",
    "    print(\"profit=>>\",profit)     \n",
    "          "
   ]
  },
  {
   "cell_type": "markdown",
   "id": "e64c3b7b",
   "metadata": {},
   "source": [
    "# 13.WAP to Input the basic salary of employee & calculate its gross salary.\n",
    "## Basic Salary <= 10000 :HRA = 20%, DA = 80%\n",
    "## Basic Salary <= 20000 : HRA = 25%, DA = 90%\n",
    "## Basic Salary > 20000 : HRA = 30%, DA = 95%\n"
   ]
  },
  {
   "cell_type": "code",
   "execution_count": 4,
   "id": "5176731c",
   "metadata": {},
   "outputs": [
    {
     "name": "stdout",
     "output_type": "stream",
     "text": [
      "Enter Your Salary=19000\n",
      "Enter your HR=30\n",
      "Enter your DA=95\n",
      "Gross Sal= 42750\n"
     ]
    }
   ],
   "source": [
    "basic_sal=int(input(\"Enter Your Salary=\"))\n",
    "hr=int(input(\"Enter your HR=\"))\n",
    "da=int(input(\"Enter your DA=\"))\n",
    "HR=(basic_sal*hr)//100\n",
    "DA=(basic_sal*da)//100\n",
    "gross_sal=basic_sal+HR+DA\n",
    "if basic_sal<=10000:\n",
    "    print(\"Gross Sal=\",gross_sal)\n",
    "elif basic_sal<=20000:\n",
    "    print(\"Gross Sal=\",gross_sal)\n",
    "elif basic_sal>20000:\n",
    "    print(\"Gross Sal=\",gross_sal)\n",
    "    \n"
   ]
  },
  {
   "cell_type": "markdown",
   "id": "6ebad162",
   "metadata": {},
   "source": [
    "# 14.Input the electricity unit charge  & calculate the  total electric bill according to given condition.\n",
    "## For first 50 units Rs. 0.50/unit\n",
    "## For next 100 units Rs. 0.75/unit\n",
    "## For next 100 units Rs. 1.20/unit\n",
    "## For unit above 250 Rs. 1.50/unit\n",
    "## An additional surcharge of 20% is added to the bill\n",
    " "
   ]
  },
  {
   "cell_type": "code",
   "execution_count": 14,
   "id": "a194eaa3",
   "metadata": {},
   "outputs": [
    {
     "name": "stdout",
     "output_type": "stream",
     "text": [
      "Please enter Number of Units you Consumed : 45\n",
      "ammount= 22.5\n",
      "addition_Sucharge= 4.5\n",
      "Your electricity bill is= 27.0\n"
     ]
    }
   ],
   "source": [
    "Elc_Unit=int(input(\"Please enter Number of Units you Consumed : \"))\n",
    "if Elc_Unit<=50:\n",
    "    Pay_amt=Elc_Unit*0.50       #----------------50*0.50=25\n",
    "elif Elc_Unit<=100 :\n",
    "    Pay_amt=25+(Elc_Unit-50)*0.75  #----------------50*0.50=25\n",
    "elif Elc_Unit<=200:\n",
    "    Pay_amt=25+37.5+(Elc_Unit-100)*1.20  #----------------50*0.75=37.5\n",
    "else:\n",
    "    Pay_amt=25+37.5+120+(Elc_Unit-200)*1.50  #----------------100*0.20=120\n",
    "    \n",
    "print(\"ammount=\",Pay_amt)\n",
    "addition_Sucharge=Pay_amt*0.20\n",
    "print(\"addition_Sucharge=\",addition_Sucharge)\n",
    "total_elec_bill=Pay_amt+addition_Sucharge\n",
    "print(\"Your electricity bill is=\",total_elec_bill)    \n",
    "    "
   ]
  },
  {
   "cell_type": "markdown",
   "id": "bdb180e9",
   "metadata": {},
   "source": [
    "# 15.WAP to Swap 2 numbers without using 3rd variable in python"
   ]
  },
  {
   "cell_type": "code",
   "execution_count": 18,
   "id": "89fe015b",
   "metadata": {},
   "outputs": [
    {
     "name": "stdout",
     "output_type": "stream",
     "text": [
      "a= 1000\n",
      "b= 500\n"
     ]
    }
   ],
   "source": [
    "a=500\n",
    "b=1000\n",
    "a,b=b,a\n",
    "print(\"a=\",a)\n",
    "print(\"b=\",b)"
   ]
  },
  {
   "cell_type": "markdown",
   "id": "4dac453c",
   "metadata": {},
   "source": [
    "# 16.WAP and find LCM of two numbers.(least common multiple )\n",
    "aisa num jo diye gye dono number se divide ho(ye sabse chota num hoga"
   ]
  },
  {
   "cell_type": "code",
   "execution_count": 17,
   "id": "bd6ca65c",
   "metadata": {},
   "outputs": [
    {
     "name": "stdout",
     "output_type": "stream",
     "text": [
      "Programe to find LCM of two numbers\n",
      "Enter 1st Number=5\n",
      "Enter 2nd number=15\n",
      "1\n",
      "2\n",
      "3\n",
      "4\n",
      "5\n",
      "6\n",
      "7\n",
      "8\n",
      "9\n",
      "10\n",
      "11\n",
      "12\n",
      "13\n",
      "14\n",
      "15\n",
      "15 =i << ye vo num he jisko 'a' and 'b' dono devide kr skte he\n"
     ]
    }
   ],
   "source": [
    "print(\"Programe to find LCM of two numbers\")\n",
    "a=int(input(\"Enter 1st Number=\"))\n",
    "b=int(input(\"Enter 2nd number=\"))\n",
    "i=1\n",
    "while True:\n",
    "#     print(i)     # i tb tk print hoga jb tk aisa num na mile jo a and b dono se devide ho\n",
    "    if i%a==0 and i%b==0:\n",
    "        print(i,\"=i << ye vo num he jisko 'a' and 'b' dono devide kr skte he\" )\n",
    "        break\n",
    "    i=i+1    \n",
    "    "
   ]
  },
  {
   "cell_type": "code",
   "execution_count": 11,
   "id": "f25bc339",
   "metadata": {},
   "outputs": [
    {
     "data": {
      "text/plain": [
       "1.0"
      ]
     },
     "execution_count": 11,
     "metadata": {},
     "output_type": "execute_result"
    }
   ],
   "source": [
    "25/25"
   ]
  },
  {
   "cell_type": "markdown",
   "id": "ba3c6899",
   "metadata": {},
   "source": [
    "# WAP to check the year is leap year or not "
   ]
  },
  {
   "cell_type": "code",
   "execution_count": 37,
   "id": "f8ca5d93",
   "metadata": {},
   "outputs": [
    {
     "name": "stdout",
     "output_type": "stream",
     "text": [
      "Enter year=2020\n",
      "2020 is leap year\n"
     ]
    }
   ],
   "source": [
    "year=int(input(\"Enter year=\"))\n",
    "if year%4==0:\n",
    "    print(f\"{year} is leap year\")\n",
    "else:\n",
    "    print(f\"{year} noraml year\")\n",
    "    "
   ]
  },
  {
   "cell_type": "markdown",
   "id": "ea03dcee",
   "metadata": {},
   "source": [
    "# 17.Write a program to reverse a number in Python?"
   ]
  },
  {
   "cell_type": "code",
   "execution_count": 5,
   "id": "816d7e3a",
   "metadata": {},
   "outputs": [
    {
     "name": "stdout",
     "output_type": "stream",
     "text": [
      "5\n",
      "56\n",
      "560\n",
      "5602\n",
      "Reverse num =  5602\n"
     ]
    }
   ],
   "source": [
    "#using Loop condition\n",
    "num=2065\n",
    "reverse=0\n",
    "while num>0:\n",
    "    reminder=num%10\n",
    "    reverse=(reverse*10)+reminder\n",
    "    print(reverse)\n",
    "    num=num//10  \n",
    "    #---------- is se hame devidend milta he jo ki help krta he num ki last dijit ko km krne me \n",
    "print(\"Reverse num = \",reverse)    "
   ]
  },
  {
   "cell_type": "code",
   "execution_count": 3,
   "id": "061df997",
   "metadata": {},
   "outputs": [
    {
     "name": "stdout",
     "output_type": "stream",
     "text": [
      "Enter number=125\n",
      "num= 125\n",
      "rev= 521\n"
     ]
    }
   ],
   "source": [
    "# without using loop\n",
    "num=input(\"Enter number=\")\n",
    "rev=num[::-1]\n",
    "print(\"num=\",num)\n",
    "print(\"rev=\",rev)"
   ]
  },
  {
   "cell_type": "markdown",
   "id": "bfcf1696",
   "metadata": {},
   "source": [
    "# 18.Write a program to find the sum of the digits of a number in Python?"
   ]
  },
  {
   "cell_type": "code",
   "execution_count": 6,
   "id": "05b07391",
   "metadata": {},
   "outputs": [
    {
     "name": "stdout",
     "output_type": "stream",
     "text": [
      "Program to find the sum of digit>>>\n",
      "Enter number=4578\n",
      "sum of digit= 24\n"
     ]
    }
   ],
   "source": [
    "print(\"Program to find the sum of digit>>>\")\n",
    "num=int(input(\"Enter number=\"))\n",
    "sum=0\n",
    "while num>0:\n",
    "    reminder=num%10\n",
    "    sum=sum+reminder\n",
    "    num=num//10    #---->> taki last ek digit km ho float division se\n",
    "print(\"sum of digit=\",sum)    "
   ]
  },
  {
   "cell_type": "markdown",
   "id": "5bbb135c",
   "metadata": {},
   "source": [
    "# 19.How to sort list of tuples.\n",
    "# lang_listtuple= [('C#',1), ('Go',7), ('Basic',8), ('Python',60)]\n"
   ]
  },
  {
   "cell_type": "code",
   "execution_count": 2,
   "id": "d0431815",
   "metadata": {},
   "outputs": [
    {
     "data": {
      "text/plain": [
       "[('Basic', 8), ('C#', 1), ('Go', 7), ('Python', 60)]"
      ]
     },
     "execution_count": 2,
     "metadata": {},
     "output_type": "execute_result"
    }
   ],
   "source": [
    "lang_listtuple= [('C#',1), ('Go',7), ('Basic',8), ('Python',60)]\n",
    "lang_listtuple.sort()\n",
    "lang_listtuple"
   ]
  },
  {
   "cell_type": "markdown",
   "id": "f450a464",
   "metadata": {},
   "source": [
    "# 20.WAP for simple & compound interest in python."
   ]
  },
  {
   "cell_type": "code",
   "execution_count": 8,
   "id": "4ea41042",
   "metadata": {},
   "outputs": [
    {
     "name": "stdout",
     "output_type": "stream",
     "text": [
      "program to find simple and compound interst\n",
      "Enter Pricipal value= 5000\n",
      "Enter value of Rate interest= 6\n",
      "Enter time in year= 2\n",
      "simple Interest=  600.0\n",
      "compound interst=  618.0000000000009\n"
     ]
    }
   ],
   "source": [
    "print(\"program to find simple and compound interst\")\n",
    "principal=int(input(\"Enter Pricipal value= \"))\n",
    "rate=float(input(\"Enter value of Rate interest= \"))\n",
    "time=float(input(\"Enter time in year= \"))\n",
    "\n",
    "SI=(principal*rate*time)/100\n",
    "CI=principal*((1 + rate/100 )**time) - principal\n",
    "\n",
    "print('simple Interest= ',SI )\n",
    "print(\"compound interst= \",CI)\n"
   ]
  },
  {
   "cell_type": "markdown",
   "id": "b6bbc891",
   "metadata": {},
   "source": [
    "# 21.WAP to delete set of keys in dictKeys to delete -> [‘name’,’age’]\n",
    "\n",
    "### animaldict = {\n",
    "###   “name”: “Dog”,\n",
    "###   “age”:5,\n",
    "###   “Weight”: 4,\n",
    "###   “Country”: “US”,\n",
    "###   “City”:”California”\n",
    "### }\n",
    "\n"
   ]
  },
  {
   "cell_type": "code",
   "execution_count": 43,
   "id": "df0a60c7",
   "metadata": {},
   "outputs": [],
   "source": [
    "animaldict = {\n",
    "\"name\": \"Dog\",\n",
    "\"age\":5,\n",
    "\"Weight\": 4,\n",
    "\"Country\": \"US\",\n",
    "\"City\":\"California\"\n",
    "}\n",
    "animaldict.pop(\"age\")\n",
    "del animaldict[\"name\"]"
   ]
  },
  {
   "cell_type": "code",
   "execution_count": 44,
   "id": "179b05bf",
   "metadata": {},
   "outputs": [
    {
     "data": {
      "text/plain": [
       "{'Weight': 4, 'Country': 'US', 'City': 'California'}"
      ]
     },
     "execution_count": 44,
     "metadata": {},
     "output_type": "execute_result"
    }
   ],
   "source": [
    "animaldict"
   ]
  },
  {
   "cell_type": "code",
   "execution_count": null,
   "id": "0434e40d",
   "metadata": {},
   "outputs": [],
   "source": []
  },
  {
   "cell_type": "code",
   "execution_count": null,
   "id": "2b037a3f",
   "metadata": {},
   "outputs": [],
   "source": []
  }
 ],
 "metadata": {
  "kernelspec": {
   "display_name": "Python 3 (ipykernel)",
   "language": "python",
   "name": "python3"
  },
  "language_info": {
   "codemirror_mode": {
    "name": "ipython",
    "version": 3
   },
   "file_extension": ".py",
   "mimetype": "text/x-python",
   "name": "python",
   "nbconvert_exporter": "python",
   "pygments_lexer": "ipython3",
   "version": "3.9.7"
  }
 },
 "nbformat": 4,
 "nbformat_minor": 5
}
