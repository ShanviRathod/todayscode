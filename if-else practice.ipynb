{
 "cells": [
  {
   "cell_type": "code",
   "execution_count": 20,
   "id": "39c0ed23",
   "metadata": {},
   "outputs": [
    {
     "name": "stdout",
     "output_type": "stream",
     "text": [
      "24\n",
      "24\n",
      "24\n",
      "Not Weird\n"
     ]
    }
   ],
   "source": [
    "n = int(input().strip())\n",
    "print(n)\n",
    "if n%2==0:\n",
    "    print(n)\n",
    "    if n>=2 and n<=5:\n",
    "        print(\"Not Weird\")\n",
    "    elif n>=6 and n<=20:\n",
    "        print('Weird')\n",
    "    elif n>21:\n",
    "        print(\"Not Weird\")\n",
    "else:\n",
    "    print(\"Weird\")"
   ]
  },
  {
   "cell_type": "code",
   "execution_count": 12,
   "id": "ed179a10",
   "metadata": {},
   "outputs": [
    {
     "name": "stdout",
     "output_type": "stream",
     "text": [
      "24\n",
      "Weird\n"
     ]
    }
   ],
   "source": [
    "n = int(input().strip())\n"
   ]
  },
  {
   "cell_type": "code",
   "execution_count": 26,
   "id": "9d3d887d",
   "metadata": {},
   "outputs": [
    {
     "name": "stdout",
     "output_type": "stream",
     "text": [
      "1992\n",
      "False\n"
     ]
    }
   ],
   "source": [
    "def is_leap(year):\n",
    "    y=year\n",
    "    \n",
    "    # Write your logic here\n",
    "    if y%400==0:\n",
    "        return True\n",
    "    elif y%100==0:\n",
    "        return False\n",
    "    elif y%4==0:\n",
    "        return True\n",
    "    else:\n",
    "        return False\n",
    "\n",
    "\n",
    "\n",
    "year = int(input())\n",
    "print(is_leap(year))"
   ]
  },
  {
   "cell_type": "code",
   "execution_count": 2,
   "id": "3ceeb7dd",
   "metadata": {},
   "outputs": [
    {
     "data": {
      "text/plain": [
       "600"
      ]
     },
     "execution_count": 2,
     "metadata": {},
     "output_type": "execute_result"
    }
   ],
   "source": [
    "# This means that in the Gregorian calendar, the years 2000 and 2400 are leap years,\n",
    "# while 1800, 1900, 2100, 2200, 2300 and 2500 are NOT leap years"
   ]
  },
  {
   "cell_type": "code",
   "execution_count": 18,
   "id": "96c0ae55",
   "metadata": {},
   "outputs": [
    {
     "data": {
      "text/plain": [
       "0"
      ]
     },
     "execution_count": 18,
     "metadata": {},
     "output_type": "execute_result"
    }
   ],
   "source": [
    "2000%100\n"
   ]
  },
  {
   "cell_type": "code",
   "execution_count": 4,
   "id": "56ec44c1",
   "metadata": {},
   "outputs": [
    {
     "data": {
      "text/plain": [
       "0"
      ]
     },
     "execution_count": 4,
     "metadata": {},
     "output_type": "execute_result"
    }
   ],
   "source": [
    "2020%4"
   ]
  },
  {
   "cell_type": "code",
   "execution_count": 31,
   "id": "10979425",
   "metadata": {},
   "outputs": [
    {
     "name": "stdout",
     "output_type": "stream",
     "text": [
      "12\n",
      "1234567891011"
     ]
    }
   ],
   "source": [
    "n = int(input())\n",
    "for i in range(1,n):\n",
    "    print(i,end=\"\")"
   ]
  },
  {
   "cell_type": "code",
   "execution_count": null,
   "id": "51febff3",
   "metadata": {},
   "outputs": [],
   "source": [
    "user_Age=int(input(\"Enter your age:\"))\n",
    "if user_Age>=18:\n",
    "    print(\"Eligible for voting\")\n",
    "else:\n",
    "    print(\"not eligible for voting\")"
   ]
  },
  {
   "cell_type": "code",
   "execution_count": null,
   "id": "fe01b13e",
   "metadata": {},
   "outputs": [],
   "source": [
    "num=int(input(\"enter number to check whether it is odd or even?\"))\n",
    "if num%==0:\n",
    "    print('Even num')\n",
    "else:\n",
    "    print(\"odd\")"
   ]
  },
  {
   "cell_type": "code",
   "execution_count": null,
   "id": "5300d52f",
   "metadata": {},
   "outputs": [],
   "source": [
    "num=int(input(\"Enter number\"))\n",
    "if num%7==0:\n",
    "    print(\"divisable\")\n",
    "else:\n",
    "    print(\"nt divisable\")\n",
    "    "
   ]
  },
  {
   "cell_type": "code",
   "execution_count": null,
   "id": "c7220f63",
   "metadata": {},
   "outputs": [],
   "source": [
    "num=int(input(\"enter num\"))\n",
    "if num%5==0:\n",
    "    print(\"Hellow!\")\n",
    "else:\n",
    "    print(\"Bye\")"
   ]
  },
  {
   "cell_type": "code",
   "execution_count": 12,
   "id": "bd60802a",
   "metadata": {},
   "outputs": [
    {
     "name": "stdout",
     "output_type": "stream",
     "text": [
      "Enter bill amt:350\n",
      "2000\n"
     ]
    }
   ],
   "source": [
    "e_bil_unit=int(input(\"Enter bill amt:\"))\n",
    "if e_bil_unit==100:\n",
    "    amt=0\n",
    "    print(\"No Charges\")\n",
    "elif e_bil_unit>100 and e_bil_unit<=200:\n",
    "    price1=(e_bil_unit-100)*5\n",
    "    print(price)\n",
    "elif e_bil_unit>200:\n",
    "    price=500+(e_bil_unit-200)*10\n",
    "    print(price)\n"
   ]
  },
  {
   "cell_type": "code",
   "execution_count": 9,
   "id": "de3aa915",
   "metadata": {},
   "outputs": [
    {
     "data": {
      "text/plain": [
       "500"
      ]
     },
     "execution_count": 9,
     "metadata": {},
     "output_type": "execute_result"
    }
   ],
   "source": [
    "50*10\n",
    "\n"
   ]
  },
  {
   "cell_type": "code",
   "execution_count": 10,
   "id": "f9e4ebcb",
   "metadata": {},
   "outputs": [
    {
     "data": {
      "text/plain": [
       "750"
      ]
     },
     "execution_count": 10,
     "metadata": {},
     "output_type": "execute_result"
    }
   ],
   "source": [
    "150*5\n"
   ]
  },
  {
   "cell_type": "code",
   "execution_count": 11,
   "id": "750e853f",
   "metadata": {},
   "outputs": [
    {
     "data": {
      "text/plain": [
       "1250"
      ]
     },
     "execution_count": 11,
     "metadata": {},
     "output_type": "execute_result"
    }
   ],
   "source": [
    "750+500\n"
   ]
  },
  {
   "cell_type": "code",
   "execution_count": null,
   "id": "e8aef6d6",
   "metadata": {},
   "outputs": [],
   "source": []
  }
 ],
 "metadata": {
  "kernelspec": {
   "display_name": "Python 3 (ipykernel)",
   "language": "python",
   "name": "python3"
  },
  "language_info": {
   "codemirror_mode": {
    "name": "ipython",
    "version": 3
   },
   "file_extension": ".py",
   "mimetype": "text/x-python",
   "name": "python",
   "nbconvert_exporter": "python",
   "pygments_lexer": "ipython3",
   "version": "3.9.7"
  }
 },
 "nbformat": 4,
 "nbformat_minor": 5
}
