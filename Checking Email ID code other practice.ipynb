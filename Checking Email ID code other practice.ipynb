{
 "cells": [
  {
   "cell_type": "code",
   "execution_count": 1,
   "id": "700f5d4f",
   "metadata": {},
   "outputs": [
    {
     "name": "stdout",
     "output_type": "stream",
     "text": [
      "i 585\n"
     ]
    }
   ],
   "source": [
    "# LCM number\n",
    "num1=65\n",
    "num2=45\n",
    "for i in range(1,num1*num2+1):\n",
    "    if i%num1==0 and i%num2==0:\n",
    "        print(\"i\",i)\n",
    "        break"
   ]
  },
  {
   "cell_type": "code",
   "execution_count": 6,
   "id": "199a9756",
   "metadata": {},
   "outputs": [
    {
     "name": "stdout",
     "output_type": "stream",
     "text": [
      "5\n"
     ]
    }
   ],
   "source": [
    "# # HCF (higher common fector) or GCD(grater common deviser) number\n",
    "a=25\n",
    "b=15\n",
    "\n",
    "while a%b != 0:\n",
    "    rem=a%b\n",
    "    a=b\n",
    "    b=rem\n",
    "print(b)    \n",
    "        \n",
    "    \n"
   ]
  },
  {
   "cell_type": "code",
   "execution_count": 1,
   "id": "dfa3f609",
   "metadata": {},
   "outputs": [
    {
     "data": {
      "text/plain": [
       "0"
      ]
     },
     "execution_count": 1,
     "metadata": {},
     "output_type": "execute_result"
    }
   ],
   "source": [
    "0%10"
   ]
  },
  {
   "cell_type": "code",
   "execution_count": 3,
   "id": "e20f57dc",
   "metadata": {},
   "outputs": [
    {
     "data": {
      "text/plain": [
       "0"
      ]
     },
     "execution_count": 3,
     "metadata": {},
     "output_type": "execute_result"
    }
   ],
   "source": [
    "2//10"
   ]
  },
  {
   "cell_type": "code",
   "execution_count": 1,
   "id": "f16a7685",
   "metadata": {},
   "outputs": [
    {
     "data": {
      "text/plain": [
       "0.75"
      ]
     },
     "execution_count": 1,
     "metadata": {},
     "output_type": "execute_result"
    }
   ],
   "source": [
    "9/12\n"
   ]
  },
  {
   "cell_type": "code",
   "execution_count": 2,
   "id": "d3e4cd3e",
   "metadata": {},
   "outputs": [
    {
     "data": {
      "text/plain": [
       "1.2597120000000002"
      ]
     },
     "execution_count": 2,
     "metadata": {},
     "output_type": "execute_result"
    }
   ],
   "source": [
    "1.08**3\n"
   ]
  },
  {
   "cell_type": "code",
   "execution_count": 1,
   "id": "d4c0f548",
   "metadata": {},
   "outputs": [
    {
     "name": "stdout",
     "output_type": "stream",
     "text": [
      "\n"
     ]
    }
   ],
   "source": [
    "print()"
   ]
  },
  {
   "cell_type": "code",
   "execution_count": 9,
   "id": "6e9a1a64",
   "metadata": {},
   "outputs": [
    {
     "name": "stdout",
     "output_type": "stream",
     "text": [
      "enter your Email: gdhaghsg\n",
      "EmailID is Invalid\n"
     ]
    }
   ],
   "source": [
    "# Email ID checking code:\n",
    "\n",
    "email=input(\"enter your Email: \")\n",
    "\n",
    "if \"@\" in email and \"gmail.com\" in email:\n",
    "    password=int(input(\"enter Password\"))\n",
    "    if email==\"Shanvi78@gmail.com\" and password==1234:\n",
    "        print(\"welcome\")\n",
    "        if email==\"Shanvi78@gmail.com\"and password != 1234:\n",
    "            print(\"Error! Password is Incorrecr\")\n",
    "            password=input(\"Enter Password\")\n",
    "            if password==\"1234\":\n",
    "                print(\"Finally Carrect!\")\n",
    "            else:\n",
    "                print(\"Enter valid password!\")\n",
    "    else:\n",
    "        print(\"Alert! Invalid Email Address!\")\n",
    "    \n",
    "else:\n",
    "    print(\"EmailID is Invalid\")"
   ]
  },
  {
   "cell_type": "code",
   "execution_count": 3,
   "id": "8bb9b94e",
   "metadata": {},
   "outputs": [
    {
     "ename": "SyntaxError",
     "evalue": "invalid syntax (Temp/ipykernel_13488/326485248.py, line 2)",
     "output_type": "error",
     "traceback": [
      "\u001b[1;36m  File \u001b[1;32m\"C:\\Users\\HP\\AppData\\Local\\Temp/ipykernel_13488/326485248.py\"\u001b[1;36m, line \u001b[1;32m2\u001b[0m\n\u001b[1;33m    is email in a\u001b[0m\n\u001b[1;37m    ^\u001b[0m\n\u001b[1;31mSyntaxError\u001b[0m\u001b[1;31m:\u001b[0m invalid syntax\n"
     ]
    }
   ],
   "source": [
    "email=Shanvi\n",
    "is email in a"
   ]
  },
  {
   "cell_type": "code",
   "execution_count": null,
   "id": "83eec017",
   "metadata": {},
   "outputs": [],
   "source": [
    "bensangeeta46@gmail.com\n",
    "\n",
    "\n",
    "\n",
    "\n"
   ]
  }
 ],
 "metadata": {
  "kernelspec": {
   "display_name": "Python 3 (ipykernel)",
   "language": "python",
   "name": "python3"
  },
  "language_info": {
   "codemirror_mode": {
    "name": "ipython",
    "version": 3
   },
   "file_extension": ".py",
   "mimetype": "text/x-python",
   "name": "python",
   "nbconvert_exporter": "python",
   "pygments_lexer": "ipython3",
   "version": "3.9.7"
  }
 },
 "nbformat": 4,
 "nbformat_minor": 5
}
