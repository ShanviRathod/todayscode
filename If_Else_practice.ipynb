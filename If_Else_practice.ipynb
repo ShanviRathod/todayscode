{
 "cells": [
  {
   "cell_type": "code",
   "execution_count": 1,
   "id": "6ae3aa3b",
   "metadata": {},
   "outputs": [],
   "source": [
    "# https://csiplearninghub.com/python-if-else-conditional-statement-practice/"
   ]
  },
  {
   "cell_type": "code",
   "execution_count": 2,
   "id": "22b2f490",
   "metadata": {},
   "outputs": [
    {
     "name": "stdout",
     "output_type": "stream",
     "text": [
      "Enter your Agej\n"
     ]
    },
    {
     "ename": "ValueError",
     "evalue": "invalid literal for int() with base 10: 'j'",
     "output_type": "error",
     "traceback": [
      "\u001b[1;31m---------------------------------------------------------------------------\u001b[0m",
      "\u001b[1;31mValueError\u001b[0m                                Traceback (most recent call last)",
      "\u001b[1;32m~\\AppData\\Local\\Temp/ipykernel_7516/1655191635.py\u001b[0m in \u001b[0;36m<module>\u001b[1;34m\u001b[0m\n\u001b[1;32m----> 1\u001b[1;33m \u001b[0muser_input\u001b[0m\u001b[1;33m=\u001b[0m\u001b[0mint\u001b[0m\u001b[1;33m(\u001b[0m\u001b[0minput\u001b[0m\u001b[1;33m(\u001b[0m\u001b[1;34m\"Enter your Age\"\u001b[0m\u001b[1;33m)\u001b[0m\u001b[1;33m)\u001b[0m\u001b[1;33m\u001b[0m\u001b[1;33m\u001b[0m\u001b[0m\n\u001b[0m\u001b[0;32m      2\u001b[0m \u001b[1;32mif\u001b[0m \u001b[0muser_input\u001b[0m\u001b[1;33m>=\u001b[0m\u001b[1;36m18\u001b[0m\u001b[1;33m:\u001b[0m\u001b[1;33m\u001b[0m\u001b[1;33m\u001b[0m\u001b[0m\n\u001b[0;32m      3\u001b[0m     \u001b[0mprint\u001b[0m\u001b[1;33m(\u001b[0m\u001b[1;34m\"Elegible for Vote!\"\u001b[0m\u001b[1;33m)\u001b[0m\u001b[1;33m\u001b[0m\u001b[1;33m\u001b[0m\u001b[0m\n\u001b[0;32m      4\u001b[0m \u001b[1;32melse\u001b[0m\u001b[1;33m:\u001b[0m\u001b[1;33m\u001b[0m\u001b[1;33m\u001b[0m\u001b[0m\n\u001b[0;32m      5\u001b[0m     \u001b[0mprint\u001b[0m\u001b[1;33m(\u001b[0m\u001b[1;34m\"Not Elegible for Vote!\"\u001b[0m\u001b[1;33m)\u001b[0m\u001b[1;33m\u001b[0m\u001b[1;33m\u001b[0m\u001b[0m\n",
      "\u001b[1;31mValueError\u001b[0m: invalid literal for int() with base 10: 'j'"
     ]
    }
   ],
   "source": [
    "user_input=int(input(\"Enter your Age\"))\n",
    "if user_input>=18:\n",
    "    print(\"Elegible for Vote!\")\n",
    "else:\n",
    "    print(\"Not Elegible for Vote!\")"
   ]
  },
  {
   "cell_type": "code",
   "execution_count": null,
   "id": "84d7e7fb",
   "metadata": {},
   "outputs": [],
   "source": [
    "user_input=int(input(\"Enter number\"))\n",
    "if user_input%2==0:\n",
    "    print(\"Even num\")\n",
    "else:\n",
    "    print(\"Odd number\")"
   ]
  },
  {
   "cell_type": "code",
   "execution_count": null,
   "id": "163f8268",
   "metadata": {},
   "outputs": [],
   "source": [
    "user_input=int(input(\"Enter number\"))\n",
    "if user_input%7==0:\n",
    "    print(\"Divisable\")\n",
    "else:\n",
    "    print(\"Not Divisable\")"
   ]
  },
  {
   "cell_type": "code",
   "execution_count": null,
   "id": "bc79d84b",
   "metadata": {},
   "outputs": [],
   "source": [
    "num=int(input(\"Enter number\"))\n",
    "if num%5==0:\n",
    "    print(\"Hello!\")\n",
    "else:\n",
    "    print(\"Bye\")"
   ]
  },
  {
   "cell_type": "code",
   "execution_count": null,
   "id": "dc889781",
   "metadata": {},
   "outputs": [],
   "source": [
    "user_unit=int(input(\"Enter User Unit: \"))\n",
    "if user_unit<=100:\n",
    "    print(\"no Charge\")\n",
    "elif user_unit>100 and user_unit<=200:\n",
    "    amt=(user_unit-100)*5\n",
    "    print(amt)\n",
    "elif user_unit>200:\n",
    "    amt_of_after_200u=(user_unit-200)*10\n",
    "    amt = 500+amt_of_after_200u \n",
    "    print(amt)\n",
    "    "
   ]
  },
  {
   "cell_type": "code",
   "execution_count": null,
   "id": "282fbb32",
   "metadata": {},
   "outputs": [],
   "source": [
    "num=int(input(\"Enter Number= \"))\n",
    "last_digit=num%10\n",
    "print(\"Last digit:\",a)"
   ]
  },
  {
   "cell_type": "code",
   "execution_count": null,
   "id": "4c12d88b",
   "metadata": {},
   "outputs": [],
   "source": [
    "num=int(input(\"enter number= \"))\n",
    "last_digit=num%10\n",
    "if last_digit%3==0:\n",
    "    print(\"Divisable by 3\")\n",
    "else:\n",
    "    print(\"Not Divisable by 3 \")"
   ]
  },
  {
   "cell_type": "code",
   "execution_count": null,
   "id": "ffc15671",
   "metadata": {},
   "outputs": [],
   "source": [
    "per=int(input(\"enter your percentage= \"))\n",
    "if per>90:\n",
    "    print(\"Grade A\")\n",
    "elif per>80 and per<=90:\n",
    "    print(\"Grade B\")\n",
    "elif per>=60 and per<=80:\n",
    "    print(\"Grade C\")\n",
    "else:\n",
    "    print(\"Grade E\")"
   ]
  },
  {
   "cell_type": "code",
   "execution_count": null,
   "id": "1ceec9d1",
   "metadata": {},
   "outputs": [],
   "source": [
    "bike_MRP=int(input(\"Enter bike Price=\"))\n",
    "if bike_MRP>100000:\n",
    "    tax=(bike_MRP*15)//100\n",
    "elif bike_MRP>50000 and bike_MRP<100000:\n",
    "    tax=(bike_MRP*10)//100\n",
    "else:\n",
    "    tax=(bike_MRP*5)//100\n",
    "print(\"tax=\",tax)"
   ]
  },
  {
   "cell_type": "code",
   "execution_count": null,
   "id": "0be27bdb",
   "metadata": {},
   "outputs": [],
   "source": [
    "year=int(input(\"Enter Year\"))\n",
    "if year%4==0:\n",
    "    print(\"This is Leap Year\")\n",
    "else:\n",
    "    print(\"This is not leap year\")"
   ]
  },
  {
   "cell_type": "code",
   "execution_count": null,
   "id": "94a48049",
   "metadata": {},
   "outputs": [],
   "source": [
    "day=int(input(\"Enter num of Day : \"))\n",
    "if day==1:\n",
    "    print(\"Sunday\")\n",
    "elif day==2:\n",
    "    print(\"Monday\")\n",
    "elif day==3:\n",
    "    print(\"Tuesday\")\n",
    "elif day==4:\n",
    "    print(\"Wednesday\")\n",
    "elif day==5:\n",
    "    print(\"Thursday\")\n",
    "elif day==6:\n",
    "    print(\"Friday\")\n",
    "elif day==7:\n",
    "    print(\"saturday\")\n",
    "else:\n",
    "    print(\"me sirf 1 to 7 k days k bar me hi batata hu\")"
   ]
  },
  {
   "cell_type": "code",
   "execution_count": null,
   "id": "e7481d6d",
   "metadata": {},
   "outputs": [],
   "source": [
    "day=int(input(\"Enter num of Day : \"))\n",
    "if day==1:\n",
    "    print(\"january\")\n",
    "elif day==2:\n",
    "    print(\"february\")\n",
    "elif day==3:\n",
    "    print(\"March\")\n",
    "elif day==4:\n",
    "    print(\"April\")\n",
    "elif day==5:\n",
    "    print(\"May\")\n",
    "elif day==6:\n",
    "    print(\"June\")\n",
    "elif day==7:\n",
    "    print(\"July\")\n",
    "elif day==8:\n",
    "    print(\"August\")\n",
    "elif day==9:\n",
    "    print(\"September\")\n",
    "elif day==10:\n",
    "    print(\"Octomber\")\n",
    "elif day==11:\n",
    "    print(\"November\")\n",
    "elif day==12:\n",
    "    print(\"December\")\n",
    "else:\n",
    "    print(\"bhai 1 se 12 mahine k bare me hi batata hu isase age meko nhi pta!\")"
   ]
  },
  {
   "cell_type": "code",
   "execution_count": null,
   "id": "85d903b2",
   "metadata": {},
   "outputs": [],
   "source": [
    "city=input(\"Enter City name=\").capitalize()\n",
    "print(city)\n",
    "if city==\"Delhi\":\n",
    "    print(\"Monument: Red Fort\")\n",
    "elif city==\"Agra\":\n",
    "    print(\"Monument: Taj mahel\")\n",
    "elif city==\"Jaipur\":\n",
    "    print(\"Monument: Jal Mahel\")\n",
    "else:\n",
    "    print(\"Iska pta nhi!\")"
   ]
  },
  {
   "cell_type": "code",
   "execution_count": null,
   "id": "d055cbd6",
   "metadata": {},
   "outputs": [],
   "source": [
    "num=input(\"Enter num\")\n",
    "if len(num)==3:\n",
    "    print(\"This is 3 Digit number\")\n",
    "else:\n",
    "    print(\"Meko ni pta\")"
   ]
  },
  {
   "cell_type": "code",
   "execution_count": null,
   "id": "f12d1c3a",
   "metadata": {},
   "outputs": [],
   "source": [
    "num=int(input(\"Enter num\"))\n",
    "if num>=0:\n",
    "    print(\"Positive\")\n",
    "else:\n",
    "    print(\"nagative\")"
   ]
  },
  {
   "cell_type": "code",
   "execution_count": 10,
   "id": "9c695498",
   "metadata": {
    "scrolled": true
   },
   "outputs": [
    {
     "ename": "IndentationError",
     "evalue": "unexpected indent (Temp/ipykernel_7516/3976612007.py, line 3)",
     "output_type": "error",
     "traceback": [
      "\u001b[1;36m  File \u001b[1;32m\"C:\\Users\\HP\\AppData\\Local\\Temp/ipykernel_7516/3976612007.py\"\u001b[1;36m, line \u001b[1;32m3\u001b[0m\n\u001b[1;33m    for i in range(1,num):\u001b[0m\n\u001b[1;37m    ^\u001b[0m\n\u001b[1;31mIndentationError\u001b[0m\u001b[1;31m:\u001b[0m unexpected indent\n"
     ]
    }
   ],
   "source": [
    "num=int(input(\"Enter number\"))\n",
    "count=0\n",
    "    for i in range(1,num):\n",
    "        if num%i==0:\n",
    "            count=count+1\n",
    "if count ==3:\n",
    "    print(\"prime num\")\n",
    "else:\n",
    "    print(\"not prime num\")"
   ]
  },
  {
   "cell_type": "code",
   "execution_count": 15,
   "id": "0271d233",
   "metadata": {},
   "outputs": [],
   "source": [
    "def count_odd_even(func,l):\n",
    "    count=0\n",
    "    for i in l:\n",
    "        if func(i):\n",
    "            count=count+1\n",
    "    return(count)    \n",
    "even=lambda num : num%2==0\n",
    "odd=lambda num : num %2!=0"
   ]
  },
  {
   "cell_type": "code",
   "execution_count": 16,
   "id": "71044cea",
   "metadata": {},
   "outputs": [
    {
     "name": "stdout",
     "output_type": "stream",
     "text": [
      "4\n"
     ]
    }
   ],
   "source": [
    "l=[10,15,45,68,78,25,98]\n",
    "print(count_odd_even(even,l))           #<-----count even num"
   ]
  },
  {
   "cell_type": "code",
   "execution_count": 17,
   "id": "8fe432e7",
   "metadata": {},
   "outputs": [
    {
     "name": "stdout",
     "output_type": "stream",
     "text": [
      "3\n"
     ]
    }
   ],
   "source": [
    "print(count_odd_even(odd,l))            #<------count odd num"
   ]
  },
  {
   "cell_type": "code",
   "execution_count": null,
   "id": "f17d7815",
   "metadata": {},
   "outputs": [],
   "source": []
  }
 ],
 "metadata": {
  "kernelspec": {
   "display_name": "Python 3 (ipykernel)",
   "language": "python",
   "name": "python3"
  },
  "language_info": {
   "codemirror_mode": {
    "name": "ipython",
    "version": 3
   },
   "file_extension": ".py",
   "mimetype": "text/x-python",
   "name": "python",
   "nbconvert_exporter": "python",
   "pygments_lexer": "ipython3",
   "version": "3.9.7"
  }
 },
 "nbformat": 4,
 "nbformat_minor": 5
}
