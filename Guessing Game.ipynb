{
 "cells": [
  {
   "cell_type": "code",
   "execution_count": null,
   "id": "67b71f3e",
   "metadata": {},
   "outputs": [],
   "source": [
    "import random\n",
    "random.randint()   #know about function press (Sift+tab)"
   ]
  },
  {
   "cell_type": "code",
   "execution_count": null,
   "id": "9b16069e",
   "metadata": {},
   "outputs": [],
   "source": [
    "jackpot_num=random.randint(1,100)\n",
    "print(jackpot_num)\n",
    "Guessing_num=int(input(\"Enter Number: \"))\n",
    "count=1\n",
    "while Guessing_num !=jackpot_num:\n",
    "    # guessing num jackpootnum k equal na ho tabhi code age chale\n",
    "    if Guessing_num <jackpot_num:\n",
    "        print(\"Guess higher number\")\n",
    "        \n",
    "    else:\n",
    "        print(\"Guessing lower number!\")\n",
    "    Guessing_num=int(input(\"Enter Number: \"))\n",
    "    count=count+1\n",
    "print(f\"you attemp {count} round\")"
   ]
  }
 ],
 "metadata": {
  "kernelspec": {
   "display_name": "Python 3 (ipykernel)",
   "language": "python",
   "name": "python3"
  },
  "language_info": {
   "codemirror_mode": {
    "name": "ipython",
    "version": 3
   },
   "file_extension": ".py",
   "mimetype": "text/x-python",
   "name": "python",
   "nbconvert_exporter": "python",
   "pygments_lexer": "ipython3",
   "version": "3.9.7"
  }
 },
 "nbformat": 4,
 "nbformat_minor": 5
}
