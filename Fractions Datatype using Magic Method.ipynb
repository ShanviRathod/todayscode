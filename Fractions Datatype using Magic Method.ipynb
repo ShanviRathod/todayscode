{
 "cells": [
  {
   "cell_type": "code",
   "execution_count": 45,
   "id": "9e399c94",
   "metadata": {},
   "outputs": [],
   "source": [
    "# Handel Fractions using Magic Methods\n",
    "class Fraction:\n",
    "    \n",
    "    def __init__(self,n,d):\n",
    "        self.numrator=n\n",
    "        self.denominator=d\n",
    "        \n",
    "    def __str__(self):\n",
    "        return \"{}/{}\".format(self.numrator,self.denominator)\n",
    "    \n",
    "    def __add__(self,other):\n",
    "        temp_num=self.numrator*other.denominator+self.denominator*other.numrator\n",
    "        temp_den=self.denominator*other.denominator\n",
    "        return \"{}/{}\".format(temp_num,temp_den)\n",
    "    \n",
    "    def __sub__(self,other):\n",
    "        temp_num=self.numrator*other.denominator - self.denominator*other.numrator\n",
    "        temp_den=self.denominator*other.denominator\n",
    "        return \"{}/{}\".format(temp_num,temp_den)\n",
    "    \n",
    "    def __mul__(self,other):\n",
    "        temp_num=self.numrator*other.denominator\n",
    "        temp_den=self.denominator*other.numrator\n",
    "        return \"{}/{}\".format(temp_den,temp_num)\n",
    "    \n",
    "    def __truediv__(self,other):\n",
    "        temp_num=self.numrator*other.denominator\n",
    "        temp_den=self.denominator*other.numrator\n",
    "        return \"{}/{}\".format(temp_num,temp_den)"
   ]
  },
  {
   "cell_type": "code",
   "execution_count": 46,
   "id": "8476abbc",
   "metadata": {},
   "outputs": [
    {
     "name": "stdout",
     "output_type": "stream",
     "text": [
      "<class '__main__.Fraction'>\n"
     ]
    }
   ],
   "source": [
    "x=Fraction(3,4)\n",
    "print(type(x))"
   ]
  },
  {
   "cell_type": "code",
   "execution_count": 47,
   "id": "340621b9",
   "metadata": {},
   "outputs": [
    {
     "name": "stdout",
     "output_type": "stream",
     "text": [
      "3/4\n"
     ]
    }
   ],
   "source": [
    "print(x)"
   ]
  },
  {
   "cell_type": "code",
   "execution_count": 48,
   "id": "5b3b680d",
   "metadata": {},
   "outputs": [
    {
     "data": {
      "text/plain": [
       "__main__.Fraction"
      ]
     },
     "execution_count": 48,
     "metadata": {},
     "output_type": "execute_result"
    }
   ],
   "source": [
    "type(x)"
   ]
  },
  {
   "cell_type": "code",
   "execution_count": 49,
   "id": "07c4c7d8",
   "metadata": {},
   "outputs": [],
   "source": [
    "y=Fraction(5,6)\n"
   ]
  },
  {
   "cell_type": "code",
   "execution_count": 50,
   "id": "f8da8274",
   "metadata": {},
   "outputs": [
    {
     "name": "stdout",
     "output_type": "stream",
     "text": [
      "38/24\n"
     ]
    }
   ],
   "source": [
    "print(x+y)"
   ]
  },
  {
   "cell_type": "code",
   "execution_count": 53,
   "id": "06011a6b",
   "metadata": {},
   "outputs": [
    {
     "name": "stdout",
     "output_type": "stream",
     "text": [
      "12/1\n"
     ]
    }
   ],
   "source": [
    "a=Fraction(3,1)\n",
    "b=Fraction(1,4)\n",
    "print(a/b)"
   ]
  },
  {
   "cell_type": "code",
   "execution_count": null,
   "id": "35359f4a",
   "metadata": {},
   "outputs": [],
   "source": []
  }
 ],
 "metadata": {
  "kernelspec": {
   "display_name": "Python 3 (ipykernel)",
   "language": "python",
   "name": "python3"
  },
  "language_info": {
   "codemirror_mode": {
    "name": "ipython",
    "version": 3
   },
   "file_extension": ".py",
   "mimetype": "text/x-python",
   "name": "python",
   "nbconvert_exporter": "python",
   "pygments_lexer": "ipython3",
   "version": "3.9.7"
  }
 },
 "nbformat": 4,
 "nbformat_minor": 5
}
