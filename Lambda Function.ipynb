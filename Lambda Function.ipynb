{
 "cells": [
  {
   "cell_type": "markdown",
   "id": "b7a35f70",
   "metadata": {},
   "source": [
    "# Higher Order Funtion"
   ]
  },
  {
   "cell_type": "code",
   "execution_count": 7,
   "id": "dd702466",
   "metadata": {},
   "outputs": [
    {
     "name": "stdout",
     "output_type": "stream",
     "text": [
      "199\n",
      "338\n"
     ]
    }
   ],
   "source": [
    "def sum_of(func,L):\n",
    "    res=0\n",
    "    for i in L:\n",
    "        if func(i):\n",
    "            res=res+i\n",
    "    return res\n",
    "L=[12,16,45,78,98,56,78,65,89]\n",
    "Even_num= lambda num : num%2==0\n",
    "odd_num= lambda num : num%2!=0\n",
    "\n",
    "\n",
    "\n",
    "print(sum_of(odd_num,L))\n",
    "print(sum_of(Even_num,L))"
   ]
  },
  {
   "cell_type": "code",
   "execution_count": 11,
   "id": "bbf3c96c",
   "metadata": {},
   "outputs": [
    {
     "name": "stdout",
     "output_type": "stream",
     "text": [
      "3\n",
      "6\n"
     ]
    }
   ],
   "source": [
    "def count_odd_Even(func,L):\n",
    "    count=0\n",
    "    for i in L:\n",
    "        if func(i):\n",
    "            count=count+1\n",
    "    return count\n",
    "print(count_odd_Even(odd_num,L))\n",
    "print(count_odd_Even(Even_num,L))\n"
   ]
  },
  {
   "cell_type": "code",
   "execution_count": null,
   "id": "feea614b",
   "metadata": {},
   "outputs": [],
   "source": []
  }
 ],
 "metadata": {
  "kernelspec": {
   "display_name": "Python 3 (ipykernel)",
   "language": "python",
   "name": "python3"
  },
  "language_info": {
   "codemirror_mode": {
    "name": "ipython",
    "version": 3
   },
   "file_extension": ".py",
   "mimetype": "text/x-python",
   "name": "python",
   "nbconvert_exporter": "python",
   "pygments_lexer": "ipython3",
   "version": "3.9.7"
  }
 },
 "nbformat": 4,
 "nbformat_minor": 5
}
