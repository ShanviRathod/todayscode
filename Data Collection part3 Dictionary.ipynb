{
 "cells": [
  {
   "cell_type": "code",
   "execution_count": 34,
   "id": "b0b53605",
   "metadata": {},
   "outputs": [
    {
     "name": "stdout",
     "output_type": "stream",
     "text": [
      "{'EmpName': ['Shanvi', 'RAj', 23], 'EmpID': 110056, 'EmpSal': 45000}\n"
     ]
    },
    {
     "data": {
      "text/plain": [
       "dict"
      ]
     },
     "execution_count": 34,
     "metadata": {},
     "output_type": "execute_result"
    }
   ],
   "source": [
    "# wap to make dict of employee having EmpNmae, EmpID & EmpSla\n",
    "emp_Details ={\n",
    "    \"EmpName\":[\"Shanvi\",\"RAj\",23],\n",
    "    \"EmpID\": 110056,\n",
    "    \"EmpSal\":45000\n",
    "}\n",
    "print(emp_Details)\n",
    "type(emp_Details)"
   ]
  },
  {
   "cell_type": "code",
   "execution_count": 35,
   "id": "78a3ea69",
   "metadata": {},
   "outputs": [],
   "source": [
    "emp_Details[\"EmpName\"][2]=\"Meera\"\n",
    "# emp_Details[\"EmpID\"]"
   ]
  },
  {
   "cell_type": "code",
   "execution_count": 36,
   "id": "da8c27be",
   "metadata": {},
   "outputs": [
    {
     "data": {
      "text/plain": [
       "{'EmpName': ['Shanvi', 'RAj', 'Meera'], 'EmpID': 110056, 'EmpSal': 45000}"
      ]
     },
     "execution_count": 36,
     "metadata": {},
     "output_type": "execute_result"
    }
   ],
   "source": [
    "emp_Details"
   ]
  },
  {
   "cell_type": "markdown",
   "id": "5756362c",
   "metadata": {},
   "source": [
    "# dictionary immutable data type he"
   ]
  },
  {
   "cell_type": "code",
   "execution_count": 39,
   "id": "ca813e6e",
   "metadata": {},
   "outputs": [
    {
     "ename": "SyntaxError",
     "evalue": "cannot assign to dict display (Temp/ipykernel_14284/3874615493.py, line 1)",
     "output_type": "error",
     "traceback": [
      "\u001b[1;36m  File \u001b[1;32m\"C:\\Users\\HP\\AppData\\Local\\Temp/ipykernel_14284/3874615493.py\"\u001b[1;36m, line \u001b[1;32m1\u001b[0m\n\u001b[1;33m    emp_Details={\u001b[0m\n\u001b[1;37m                ^\u001b[0m\n\u001b[1;31mSyntaxError\u001b[0m\u001b[1;31m:\u001b[0m cannot assign to dict display\n"
     ]
    }
   ],
   "source": [
    "emp_Details={\n",
    "    \"EmpName\":[\"Shanvi\",\"RAj\",23],\n",
    "    \"EmpID\": 110056,\n",
    "    \"EmpSal\":45000\n",
    "}=Stu={\n",
    "    'name':\"Rekha\"\n",
    "}"
   ]
  },
  {
   "cell_type": "code",
   "execution_count": 45,
   "id": "62c95205",
   "metadata": {},
   "outputs": [
    {
     "name": "stdout",
     "output_type": "stream",
     "text": [
      "{'Name': 'Manuu'}\n"
     ]
    }
   ],
   "source": [
    "# wap to make single element dict\n",
    "a={\n",
    "    \"Name\":\"Manuu\"\n",
    "}\n",
    "print(a)"
   ]
  },
  {
   "cell_type": "code",
   "execution_count": 46,
   "id": "dc37bc8a",
   "metadata": {},
   "outputs": [
    {
     "name": "stdout",
     "output_type": "stream",
     "text": [
      "{}\n"
     ]
    }
   ],
   "source": [
    "# wap to make a empty dictionary\n",
    "a={}\n",
    "print(a)"
   ]
  },
  {
   "cell_type": "code",
   "execution_count": 47,
   "id": "3f07435a",
   "metadata": {},
   "outputs": [
    {
     "data": {
      "text/plain": [
       "dict"
      ]
     },
     "execution_count": 47,
     "metadata": {},
     "output_type": "execute_result"
    }
   ],
   "source": [
    "type(a)"
   ]
  },
  {
   "cell_type": "markdown",
   "id": "cc448992",
   "metadata": {},
   "source": [
    "# mathod of dictionary"
   ]
  },
  {
   "cell_type": "code",
   "execution_count": 57,
   "id": "717423f5",
   "metadata": {},
   "outputs": [
    {
     "name": "stdout",
     "output_type": "stream",
     "text": [
      "dict_items([('EmpName', ['Shanvi', 'RAj', 23]), ('EmpID', 110056), ('EmpSal', 45000)])\n"
     ]
    }
   ],
   "source": [
    "emp_Details={\n",
    "    \"EmpName\":[\"Shanvi\",\"RAj\",23],\n",
    "    \"EmpID\": 110056,\n",
    "    \"EmpSal\":45000\n",
    "}\n",
    "#1.------>>items\n",
    "print(emp_Details.items())\n"
   ]
  },
  {
   "cell_type": "code",
   "execution_count": 58,
   "id": "0c55a8a4",
   "metadata": {},
   "outputs": [
    {
     "name": "stdout",
     "output_type": "stream",
     "text": [
      "dict_keys(['EmpName', 'EmpID', 'EmpSal'])\n"
     ]
    }
   ],
   "source": [
    "#  2.------>> Keys\n",
    "print(emp_Details.keys())"
   ]
  },
  {
   "cell_type": "code",
   "execution_count": 59,
   "id": "8d50cf88",
   "metadata": {},
   "outputs": [
    {
     "name": "stdout",
     "output_type": "stream",
     "text": [
      "dict_values([['Shanvi', 'RAj', 23], 110056, 45000])\n"
     ]
    }
   ],
   "source": [
    "# 3. ----->> Values\n",
    "print(emp_Details.values())"
   ]
  },
  {
   "cell_type": "code",
   "execution_count": 60,
   "id": "9add53ca",
   "metadata": {},
   "outputs": [
    {
     "name": "stdout",
     "output_type": "stream",
     "text": [
      "{}\n"
     ]
    }
   ],
   "source": [
    "# 4. clear()\n",
    "emp_Details.clear()\n",
    "print(emp_Details)"
   ]
  },
  {
   "cell_type": "code",
   "execution_count": 82,
   "id": "f009592e",
   "metadata": {},
   "outputs": [
    {
     "data": {
      "text/plain": [
       "{'EmpName': ['Shanvi', 'RAj', 23],\n",
       " 'EmpID': 110056,\n",
       " 'EmpSal': 45000,\n",
       " 'hobby': 'playing',\n",
       " 'Name': 'Manuu',\n",
       " 'Chacha': 'Chachi',\n",
       " 'mama': 'mami',\n",
       " 'feelings': {'Love': 'hate', 'happy': 'sad'},\n",
       " 'plastic': 'Chair,table',\n",
       " 'iron': 'humor,pin'}"
      ]
     },
     "execution_count": 82,
     "metadata": {},
     "output_type": "execute_result"
    }
   ],
   "source": [
    "# 5. upadate()\n",
    "emp_Details={\n",
    "    \"EmpName\":[\"Shanvi\",\"RAj\",23],\n",
    "    \"EmpID\": 110056,\n",
    "    \"EmpSal\":45000\n",
    "}\n",
    "a={\n",
    "    \"Name\":\"Manuu\"\n",
    "}\n",
    "b={\n",
    "    \"hobby\":\"playing\"\n",
    "}\n",
    "relation={\n",
    "    \"Chacha\":\"Chachi\",\n",
    "    \"mama\":\"mami\"\n",
    "}\n",
    "emp_Details.update(b)\n",
    "emp_Details.update(a)\n",
    "emp_Details.update(relation)\n",
    "emp_Details.update(feelings={\"Love\":\"hate\",\"happy\":\"sad\"})\n",
    "emp_Details.update({\"plastic\":\"Chair,table\",\"iron\":\"humor,pin\"})\n",
    "emp_Details"
   ]
  },
  {
   "cell_type": "code",
   "execution_count": 105,
   "id": "fe252bde",
   "metadata": {},
   "outputs": [
    {
     "data": {
      "text/plain": [
       "'Chair'"
      ]
     },
     "execution_count": 105,
     "metadata": {},
     "output_type": "execute_result"
    }
   ],
   "source": [
    "# 6.----->> pop()\n",
    "emp_Details={\n",
    " 'EmpName': ['Shanvi', 'RAj', 23],\n",
    " 'EmpID': 110056,\n",
    " 'EmpSal': 45000,\n",
    " 'hobby': 'playing',\n",
    " 'Name': 'Manuu',\n",
    " 'Chacha': 'Chachi',\n",
    " 'mama': 'mami',\n",
    " 'feelings': {'Love': 'hate', 'happy': 'sad'},\n",
    " 'plastic': [\"Chair\",\"table\",21,],\n",
    "  \"iron\": 'humor,pin'\n",
    "}\n",
    "emp_Details.pop(\"plastic\")[0]"
   ]
  },
  {
   "cell_type": "code",
   "execution_count": 116,
   "id": "a5c8c7a7",
   "metadata": {},
   "outputs": [
    {
     "data": {
      "text/plain": [
       "{'EmpName': ['Shanvi', 'RAj', 23],\n",
       " 'EmpID': 110056,\n",
       " 'EmpSal': 45000,\n",
       " 'hobby': 'playing',\n",
       " 'Name': 'Manuu',\n",
       " 'Chacha': 'Chachi',\n",
       " 'mama': 'mami',\n",
       " 'feelings': {'Love': 'hate', 'happy': 'sad'},\n",
       " 'iron': 'humor,pin'}"
      ]
     },
     "execution_count": 116,
     "metadata": {},
     "output_type": "execute_result"
    }
   ],
   "source": [
    "# print(emp_Details)\n",
    "emp_Details"
   ]
  },
  {
   "cell_type": "code",
   "execution_count": 118,
   "id": "5760206c",
   "metadata": {},
   "outputs": [
    {
     "name": "stdout",
     "output_type": "stream",
     "text": [
      "Orign data= {'I': 1, 'II': 2, 'III': 3, 'IV': 4, 'V': 5}\n",
      "coppied data= {'I': 1, 'II': 2, 'III': 3, 'IV': 4, 'V': 5}\n"
     ]
    }
   ],
   "source": [
    "# 7.--->> Copy()\n",
    "roman_counting={\n",
    "    \"I\":1,\n",
    "    \"II\":2,\n",
    "    \"III\":3,\n",
    "    \"IV\":4,\n",
    "    \"V\":5,\n",
    "}\n",
    "copy_roman_data=roman_counting.copy()\n",
    "print(\"Orign data=\",copy_roman_data)\n",
    "print(\"coppied data=\",roman_counting)"
   ]
  },
  {
   "cell_type": "code",
   "execution_count": 121,
   "id": "aa5ed56f",
   "metadata": {},
   "outputs": [
    {
     "data": {
      "text/plain": [
       "{'I': 1, 'II': 2, 'III': 3, 'IV': 4}"
      ]
     },
     "execution_count": 121,
     "metadata": {},
     "output_type": "execute_result"
    }
   ],
   "source": [
    "# 8.--->> del()\n",
    "roman_counting={\n",
    "    \"I\":1,\n",
    "    \"II\":2,\n",
    "    \"III\":3,\n",
    "    \"IV\":4,\n",
    "    \"V\":5,\n",
    "}\n",
    "del (roman_counting)[\"V\"]\n",
    "roman_counting"
   ]
  },
  {
   "cell_type": "code",
   "execution_count": 129,
   "id": "306ea585",
   "metadata": {},
   "outputs": [
    {
     "name": "stdout",
     "output_type": "stream",
     "text": [
      "5\n"
     ]
    }
   ],
   "source": [
    "# 9.--->> get()\n",
    "roman_counting={\n",
    "    \"I\":1,\n",
    "    \"II\":2,\n",
    "    \"III\":3,\n",
    "    \"IV\":4,\n",
    "    \"V\":5,\n",
    "}\n",
    "print(roman_counting.get(\"V\"))"
   ]
  },
  {
   "cell_type": "code",
   "execution_count": null,
   "id": "5075cbc9",
   "metadata": {},
   "outputs": [],
   "source": []
  }
 ],
 "metadata": {
  "kernelspec": {
   "display_name": "Python 3 (ipykernel)",
   "language": "python",
   "name": "python3"
  },
  "language_info": {
   "codemirror_mode": {
    "name": "ipython",
    "version": 3
   },
   "file_extension": ".py",
   "mimetype": "text/x-python",
   "name": "python",
   "nbconvert_exporter": "python",
   "pygments_lexer": "ipython3",
   "version": "3.9.7"
  }
 },
 "nbformat": 4,
 "nbformat_minor": 5
}
