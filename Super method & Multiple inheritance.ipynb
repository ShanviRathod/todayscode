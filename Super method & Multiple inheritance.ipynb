{
 "cells": [
  {
   "cell_type": "markdown",
   "id": "8fcbe9ad",
   "metadata": {},
   "source": [
    "# parents class ko child class me call krvana "
   ]
  },
  {
   "cell_type": "code",
   "execution_count": 11,
   "id": "964014e2",
   "metadata": {},
   "outputs": [
    {
     "data": {
      "text/plain": [
       "48.5"
      ]
     },
     "execution_count": 11,
     "metadata": {},
     "output_type": "execute_result"
    }
   ],
   "source": [
    "#wap to perform inheritance and find the avg marks of std1\n",
    "# and std 2.\n",
    "class st1:\n",
    "    def __init__(self,hindi,eng):\n",
    "        self.hindi=hindi\n",
    "        self.eng=eng\n",
    "class st2(st1):\n",
    "    def __init__(self,hindi,eng):\n",
    "        st1.__init__(self,hindi,eng)\n",
    "    def avarage(self):\n",
    "        avg=(self.hindi+self.eng)/2\n",
    "        return avg\n",
    "s=st2(50,47)\n",
    "s.avarage()\n"
   ]
  },
  {
   "cell_type": "code",
   "execution_count": 10,
   "id": "c99ce124",
   "metadata": {},
   "outputs": [
    {
     "data": {
      "text/plain": [
       "75.0"
      ]
     },
     "execution_count": 10,
     "metadata": {},
     "output_type": "execute_result"
    }
   ],
   "source": [
    "s.avarage()"
   ]
  },
  {
   "cell_type": "code",
   "execution_count": 12,
   "id": "31fb38db",
   "metadata": {},
   "outputs": [
    {
     "data": {
      "text/plain": [
       "48.5"
      ]
     },
     "execution_count": 12,
     "metadata": {},
     "output_type": "execute_result"
    }
   ],
   "source": [
    "s.avarage()"
   ]
  },
  {
   "cell_type": "markdown",
   "id": "609dde32",
   "metadata": {},
   "source": [
    "# Super mathod k through inharitence"
   ]
  },
  {
   "cell_type": "code",
   "execution_count": 17,
   "id": "4b3a9f0c",
   "metadata": {},
   "outputs": [
    {
     "data": {
      "text/plain": [
       "48.5"
      ]
     },
     "execution_count": 17,
     "metadata": {},
     "output_type": "execute_result"
    }
   ],
   "source": [
    "class st1:\n",
    "    def __init__(self,hindi,eng):\n",
    "        self.hindi=hindi\n",
    "        self.eng=eng\n",
    "class st2(st1):\n",
    "    def __init__(self,hindi,eng):\n",
    "        super().__init__(hindi,eng)\n",
    "        \n",
    "    def avg(self):\n",
    "        average=(self.hindi+self.eng)/2\n",
    "        return average\n",
    "s=st2(50,47)\n",
    "s.avg()\n",
    "        "
   ]
  },
  {
   "cell_type": "markdown",
   "id": "c96ce432",
   "metadata": {},
   "source": [
    "# Multiple Inharitence"
   ]
  },
  {
   "cell_type": "code",
   "execution_count": 24,
   "id": "cefd582e",
   "metadata": {},
   "outputs": [],
   "source": [
    "# Grand-Parents to parent\n",
    "class Gpc:\n",
    "    def __init__(self,greet):\n",
    "        self.greet=greet\n",
    "        \n",
    "class Pc(Gpc):\n",
    "    def __init__(self,greet,name):\n",
    "        super().__init__(greet)\n",
    "        self.name=name\n",
    "class Cc:\n",
    "    def __init__(self,age):\n",
    "        self.age=age\n",
    "p=Pc(\"Good Morning!\",\"shanvi\")        "
   ]
  },
  {
   "cell_type": "code",
   "execution_count": 26,
   "id": "b88a13b3",
   "metadata": {},
   "outputs": [
    {
     "data": {
      "text/plain": [
       "'Good Morning!'"
      ]
     },
     "execution_count": 26,
     "metadata": {},
     "output_type": "execute_result"
    }
   ],
   "source": [
    "p.greet"
   ]
  },
  {
   "cell_type": "code",
   "execution_count": 27,
   "id": "6bac1a0c",
   "metadata": {},
   "outputs": [
    {
     "data": {
      "text/plain": [
       "'shanvi'"
      ]
     },
     "execution_count": 27,
     "metadata": {},
     "output_type": "execute_result"
    }
   ],
   "source": [
    "p.name"
   ]
  },
  {
   "cell_type": "code",
   "execution_count": 28,
   "id": "7449a8c1",
   "metadata": {},
   "outputs": [
    {
     "name": "stdout",
     "output_type": "stream",
     "text": [
      "shanvi Good Morning!\n"
     ]
    }
   ],
   "source": [
    "print(p.name,p.greet)"
   ]
  },
  {
   "cell_type": "code",
   "execution_count": null,
   "id": "ac8ee7dd",
   "metadata": {},
   "outputs": [],
   "source": []
  },
  {
   "cell_type": "code",
   "execution_count": 36,
   "id": "a4de4e9d",
   "metadata": {},
   "outputs": [
    {
     "name": "stdout",
     "output_type": "stream",
     "text": [
      "enter your age: 11\n",
      "Enter Your name: bachha\n"
     ]
    }
   ],
   "source": [
    "# parent to child\n",
    "class gpc:\n",
    "    # thruough to method\n",
    "    def greet(self):\n",
    "        return \"Hello\"\n",
    "class pc:\n",
    "    def name(self):\n",
    "        self.name=input(\"Enter Your name: \")\n",
    "class cc(pc):\n",
    "    def age(self):\n",
    "        self.age=int(input(\"enter your age: \"))\n",
    "        super().name()\n",
    "child=cc()        \n",
    "child.age()\n",
    "        "
   ]
  },
  {
   "cell_type": "code",
   "execution_count": 38,
   "id": "09a989d7",
   "metadata": {},
   "outputs": [],
   "source": [
    "# Grand-parent to child\n",
    "class gpc:\n",
    "    def __init__(self,name):\n",
    "        self.name=name\n",
    "class pc:\n",
    "    def __init__(self,age):\n",
    "        self.age=age\n",
    "class cc(gpc):\n",
    "    def __init__(self,name,sal):\n",
    "        super().__init__(name)\n",
    "        self.sal=sal\n",
    "c=cc(\"Shanvi\",0)        \n",
    "        "
   ]
  },
  {
   "cell_type": "code",
   "execution_count": 39,
   "id": "c5abed5b",
   "metadata": {},
   "outputs": [
    {
     "data": {
      "text/plain": [
       "'Shanvi'"
      ]
     },
     "execution_count": 39,
     "metadata": {},
     "output_type": "execute_result"
    }
   ],
   "source": [
    "c.name"
   ]
  },
  {
   "cell_type": "code",
   "execution_count": 40,
   "id": "49886274",
   "metadata": {},
   "outputs": [
    {
     "data": {
      "text/plain": [
       "0"
      ]
     },
     "execution_count": 40,
     "metadata": {},
     "output_type": "execute_result"
    }
   ],
   "source": [
    "c.sal"
   ]
  },
  {
   "cell_type": "code",
   "execution_count": 90,
   "id": "6405d929",
   "metadata": {},
   "outputs": [
    {
     "name": "stdout",
     "output_type": "stream",
     "text": [
      "satshriyakal\n",
      "Enter your rel: babuji\n"
     ]
    }
   ],
   "source": [
    "#  grand parents to child(USing function(method))\n",
    "class gpc:\n",
    "    def greet(self):\n",
    "        print (\"satshriyakal\")\n",
    "class pc:\n",
    "    def rel(self):\n",
    "        self.age=input(\"What's your age:\")\n",
    "        return age\n",
    "class cc(gpc):\n",
    "    def __init__(self):\n",
    "        gpc.greet(self)\n",
    "        self.relation=input(\"Enter your rel: \")\n",
    "c=cc()\n"
   ]
  },
  {
   "cell_type": "code",
   "execution_count": 92,
   "id": "20e4b35f",
   "metadata": {},
   "outputs": [
    {
     "name": "stdout",
     "output_type": "stream",
     "text": [
      "hellow!\n",
      "mamaji\n"
     ]
    }
   ],
   "source": [
    "# modify code :grand parents to child(USing function(method))\n",
    "class gpc:\n",
    "    def __init__(self,greet):\n",
    "        self.greet=greet\n",
    "        print(greet)\n",
    "class pc:\n",
    "    def umar(self):\n",
    "        self.age=input(\"What's your age:\")\n",
    "        return age\n",
    "class cc(gpc):\n",
    "    def __init__(self,greet,name):\n",
    "        super().__init__(greet)\n",
    "        self.name=name\n",
    "        print(name)\n",
    "            \n",
    "c=cc(\"hellow!\",\"mamaji\")\n"
   ]
  },
  {
   "cell_type": "code",
   "execution_count": 104,
   "id": "fc2aa9a3",
   "metadata": {},
   "outputs": [
    {
     "data": {
      "text/plain": [
       "26"
      ]
     },
     "execution_count": 104,
     "metadata": {},
     "output_type": "execute_result"
    }
   ],
   "source": [
    "# Garnd-parents to parents & parents to child\n",
    "class gpc:\n",
    "    def __init__(self,greet):\n",
    "        self.greet=greet\n",
    "class pc(gpc):\n",
    "    def __init__(self,greet,name):\n",
    "        super().__init__(greet)\n",
    "        self.name=name\n",
    "        \n",
    "class cc(pc):\n",
    "    def __init__(self,greet,name,age):\n",
    "        super().__init__(greet,name)\n",
    "        self.age=age\n",
    "c=cc(\"morning!\",\"Meer\",26) \n",
    "c.age"
   ]
  },
  {
   "cell_type": "code",
   "execution_count": 105,
   "id": "e717e659",
   "metadata": {},
   "outputs": [
    {
     "data": {
      "text/plain": [
       "'Meer'"
      ]
     },
     "execution_count": 105,
     "metadata": {},
     "output_type": "execute_result"
    }
   ],
   "source": [
    "c.name"
   ]
  },
  {
   "cell_type": "code",
   "execution_count": 106,
   "id": "b27319f6",
   "metadata": {},
   "outputs": [
    {
     "data": {
      "text/plain": [
       "'morning!'"
      ]
     },
     "execution_count": 106,
     "metadata": {},
     "output_type": "execute_result"
    }
   ],
   "source": [
    "c.greet"
   ]
  },
  {
   "cell_type": "code",
   "execution_count": 112,
   "id": "7297f9a1",
   "metadata": {},
   "outputs": [
    {
     "name": "stdout",
     "output_type": "stream",
     "text": [
      "morning! my name is Meer & my age is 26\n"
     ]
    }
   ],
   "source": [
    "print(f\"{c.greet} my name is {c.name} & my age is {c.age}\")"
   ]
  },
  {
   "cell_type": "markdown",
   "id": "9a59bc5b",
   "metadata": {},
   "source": [
    "# Empty Class"
   ]
  },
  {
   "cell_type": "code",
   "execution_count": 113,
   "id": "a00e4424",
   "metadata": {},
   "outputs": [],
   "source": [
    "class a:\n",
    "    pass\n",
    "x=a()"
   ]
  },
  {
   "cell_type": "code",
   "execution_count": 114,
   "id": "37e0babb",
   "metadata": {},
   "outputs": [
    {
     "name": "stdout",
     "output_type": "stream",
     "text": [
      "<__main__.a object at 0x0000021FE6789BB0>\n"
     ]
    }
   ],
   "source": [
    "print(x)"
   ]
  },
  {
   "cell_type": "code",
   "execution_count": null,
   "id": "39256b40",
   "metadata": {},
   "outputs": [],
   "source": []
  }
 ],
 "metadata": {
  "kernelspec": {
   "display_name": "Python 3 (ipykernel)",
   "language": "python",
   "name": "python3"
  },
  "language_info": {
   "codemirror_mode": {
    "name": "ipython",
    "version": 3
   },
   "file_extension": ".py",
   "mimetype": "text/x-python",
   "name": "python",
   "nbconvert_exporter": "python",
   "pygments_lexer": "ipython3",
   "version": "3.9.7"
  }
 },
 "nbformat": 4,
 "nbformat_minor": 5
}
