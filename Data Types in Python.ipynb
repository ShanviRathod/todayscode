{
 "cells": [
  {
   "cell_type": "markdown",
   "id": "461e21cf",
   "metadata": {},
   "source": [
    "# Python Supports 3 types categories of Data types"
   ]
  },
  {
   "cell_type": "markdown",
   "id": "01027c32",
   "metadata": {},
   "source": [
    "## Basic types ( int, folat, string, boolean, complex) "
   ]
  },
  {
   "cell_type": "markdown",
   "id": "674f477d",
   "metadata": {},
   "source": [
    "## Container Types Data types:(List, Tuple, Dictionary, Set)"
   ]
  },
  {
   "cell_type": "markdown",
   "id": "2805236d",
   "metadata": {},
   "source": [
    "# User Defined Data Types: Class"
   ]
  },
  {
   "cell_type": "code",
   "execution_count": null,
   "id": "5e42ad5c",
   "metadata": {},
   "outputs": [],
   "source": []
  },
  {
   "cell_type": "code",
   "execution_count": 26,
   "id": "7816be0b",
   "metadata": {},
   "outputs": [
    {
     "data": {
      "text/plain": [
       "100000000000000001097906362944045541740492309677311846336810682903157585404911491537163328978494688899061249669721172515611590283743140088328307009198146046031271664502933027185697489699588559043338384466165001178426897626212945177628091195786707458122783970171784415105291802893207873272974885715430223118336"
      ]
     },
     "execution_count": 26,
     "metadata": {},
     "output_type": "execute_result"
    }
   ],
   "source": [
    "int(1e308)"
   ]
  },
  {
   "cell_type": "code",
   "execution_count": 6,
   "id": "35b140b6",
   "metadata": {},
   "outputs": [
    {
     "ename": "OverflowError",
     "evalue": "cannot convert float infinity to integer",
     "output_type": "error",
     "traceback": [
      "\u001b[1;31m---------------------------------------------------------------------------\u001b[0m",
      "\u001b[1;31mOverflowError\u001b[0m                             Traceback (most recent call last)",
      "\u001b[1;32m~\\AppData\\Local\\Temp/ipykernel_18636/28775840.py\u001b[0m in \u001b[0;36m<module>\u001b[1;34m\u001b[0m\n\u001b[1;32m----> 1\u001b[1;33m \u001b[0mint\u001b[0m\u001b[1;33m(\u001b[0m\u001b[1;36m1e309\u001b[0m\u001b[1;33m)\u001b[0m\u001b[1;33m\u001b[0m\u001b[1;33m\u001b[0m\u001b[0m\n\u001b[0m",
      "\u001b[1;31mOverflowError\u001b[0m: cannot convert float infinity to integer"
     ]
    }
   ],
   "source": [
    "int(1e309)"
   ]
  },
  {
   "cell_type": "code",
   "execution_count": 16,
   "id": "6d798c04",
   "metadata": {},
   "outputs": [
    {
     "data": {
      "text/plain": [
       "inf"
      ]
     },
     "execution_count": 16,
     "metadata": {},
     "output_type": "execute_result"
    }
   ],
   "source": [
    "float(1.7e+309)"
   ]
  },
  {
   "cell_type": "code",
   "execution_count": 9,
   "id": "5cf0f8a5",
   "metadata": {},
   "outputs": [
    {
     "data": {
      "text/plain": [
       "1.4"
      ]
     },
     "execution_count": 9,
     "metadata": {},
     "output_type": "execute_result"
    }
   ],
   "source": [
    "float(1.4)"
   ]
  },
  {
   "cell_type": "code",
   "execution_count": 12,
   "id": "a5ad4766",
   "metadata": {},
   "outputs": [
    {
     "name": "stdout",
     "output_type": "stream",
     "text": [
      "Shanvi\n",
      "Shanvi\n",
      "Shanvi\n",
      "Shanvi\n"
     ]
    }
   ],
   "source": [
    "print(str(\"Shanvi\"))\n",
    "print(str('''Shanvi'''))\n",
    "print(str(\"\"\"Shanvi\"\"\"))\n",
    "print(str('Shanvi'))"
   ]
  },
  {
   "cell_type": "code",
   "execution_count": 13,
   "id": "0ab2d246",
   "metadata": {},
   "outputs": [
    {
     "data": {
      "text/plain": [
       "True"
      ]
     },
     "execution_count": 13,
     "metadata": {},
     "output_type": "execute_result"
    }
   ],
   "source": [
    "bool(True)"
   ]
  },
  {
   "cell_type": "code",
   "execution_count": 14,
   "id": "a0599602",
   "metadata": {},
   "outputs": [
    {
     "data": {
      "text/plain": [
       "False"
      ]
     },
     "execution_count": 14,
     "metadata": {},
     "output_type": "execute_result"
    }
   ],
   "source": [
    "bool(False)"
   ]
  },
  {
   "cell_type": "code",
   "execution_count": 17,
   "id": "b1de4e04",
   "metadata": {},
   "outputs": [
    {
     "data": {
      "text/plain": [
       "(4+5j)"
      ]
     },
     "execution_count": 17,
     "metadata": {},
     "output_type": "execute_result"
    }
   ],
   "source": [
    "complex(4+5j)   #  using in ML"
   ]
  },
  {
   "cell_type": "code",
   "execution_count": null,
   "id": "7db82340",
   "metadata": {},
   "outputs": [],
   "source": []
  },
  {
   "cell_type": "code",
   "execution_count": 18,
   "id": "c482e6c7",
   "metadata": {},
   "outputs": [
    {
     "name": "stdout",
     "output_type": "stream",
     "text": [
      "[45, 'Shima', (4+5j), True, 4.8]\n"
     ]
    }
   ],
   "source": [
    "# List\n",
    "print([45,\"Shima\",4+5j,True,4.8])"
   ]
  },
  {
   "cell_type": "code",
   "execution_count": 20,
   "id": "629439ba",
   "metadata": {},
   "outputs": [
    {
     "name": "stdout",
     "output_type": "stream",
     "text": [
      "(45, 'Shima', (4+5j), True, 4.8)\n"
     ]
    }
   ],
   "source": [
    "# tuple\n",
    "print((45,\"Shima\",4+5j,True,4.8))"
   ]
  },
  {
   "cell_type": "code",
   "execution_count": 21,
   "id": "5665c939",
   "metadata": {},
   "outputs": [
    {
     "name": "stdout",
     "output_type": "stream",
     "text": [
      "{'Name': 'Shanvi', 'Age': 24, 'degree': 'Grrduate'}\n"
     ]
    }
   ],
   "source": [
    "# Dict\n",
    "print({'Name':\"Shanvi\",\"Age\":24,'degree':'Grrduate'})"
   ]
  },
  {
   "cell_type": "code",
   "execution_count": 25,
   "id": "e75db9ce",
   "metadata": {},
   "outputs": [
    {
     "name": "stdout",
     "output_type": "stream",
     "text": [
      "{48784, 5.65, (5+7j), 'Shona', 45, 'True'}\n"
     ]
    }
   ],
   "source": [
    "# set\n",
    "print({45,\"Shona\",48784,5+7j,5.65,\"True\"})"
   ]
  },
  {
   "cell_type": "code",
   "execution_count": null,
   "id": "113b780f",
   "metadata": {},
   "outputs": [],
   "source": []
  },
  {
   "cell_type": "code",
   "execution_count": null,
   "id": "9df9836b",
   "metadata": {},
   "outputs": [],
   "source": []
  }
 ],
 "metadata": {
  "kernelspec": {
   "display_name": "Python 3 (ipykernel)",
   "language": "python",
   "name": "python3"
  },
  "language_info": {
   "codemirror_mode": {
    "name": "ipython",
    "version": 3
   },
   "file_extension": ".py",
   "mimetype": "text/x-python",
   "name": "python",
   "nbconvert_exporter": "python",
   "pygments_lexer": "ipython3",
   "version": "3.9.7"
  }
 },
 "nbformat": 4,
 "nbformat_minor": 5
}
