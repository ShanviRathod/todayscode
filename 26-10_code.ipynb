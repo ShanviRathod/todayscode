{
 "cells": [
  {
   "cell_type": "raw",
   "id": "6b7fc8ae",
   "metadata": {},
   "source": [
    "Operators in Python \n",
    "1. Airthmatic operator: +,-,/,*,%,**,//\n",
    "2.relational operator: >,<,>=,<=,==,!=\n",
    "3. Logical Operator: and, or, not\n",
    "4. bitwise operators: (bitwise xor)^,&(bitwise and), |(bitwise or)\n",
    "5. assignment Operators: =,+=,-=,/=,%=,*=\n",
    "6.membership operators: in, not in"
   ]
  },
  {
   "cell_type": "raw",
   "id": "1bf430d1",
   "metadata": {},
   "source": [
    "if else in Python"
   ]
  },
  {
   "cell_type": "code",
   "execution_count": 6,
   "id": "6ecc1ce0",
   "metadata": {},
   "outputs": [
    {
     "name": "stdout",
     "output_type": "stream",
     "text": [
      "enter amount: 0\n"
     ]
    }
   ],
   "source": [
    "# menue dirven program using if else\n",
    "menu=\"\"\"\n",
    "How can i Help you !\n",
    "1. Enter 1 if you want to check your Account Balence.\n",
    "2. Enter 2 if you want to change your PIN.\n",
    "3. Enter 3 if you want to withdraw money.\n",
    "4. Enter 4. if you want to deposite money\n",
    "5. Enter 5 if you want to Exit!\n",
    "\"\"\"\n",
    "user_bal=int(input(\"enter amount: \"))\n",
    "if menu=='1':\n",
    "    \n",
    "    print('your current ballance: ',user_bal)\n",
    "elif menu=='2':\n",
    "    user_pin=int(input(\"enter your previews PIN: \"))\n",
    "    new_user_pin=int(input(\"enter your new PIN: \"))\n",
    "    print(\"your PIN is successfully Changed!\")\n",
    "elif menu=='3':\n",
    "    user_withdrawmoney =int(input('Enter withdraw  amount: '))\n",
    "    if user_withdrawmoney<user_bal:\n",
    "        print(user_bal-user_withdrawmoney)\n",
    "        print('amount is successfully Withdraw!')\n",
    "    else:\n",
    "        print(\"Sorry you haven't enough amount to withdraw! \")\n",
    "elif  menu==\"4\":\n",
    "    user_depo=int(input(\"enter deposite amount: \"))\n",
    "    print(\" Amount is successfully Deposited!\")\n",
    "elif menu=='5':\n",
    "    print(\"You are successfully Exited!.... Thank you Visit again!\")\n",
    "\n",
    "                            \n",
    "    "
   ]
  },
  {
   "cell_type": "raw",
   "id": "abf7a107",
   "metadata": {},
   "source": [
    "Modules in Python"
   ]
  },
  {
   "cell_type": "code",
   "execution_count": 7,
   "id": "76dda2a0",
   "metadata": {},
   "outputs": [
    {
     "data": {
      "text/plain": [
       "5.0"
      ]
     },
     "execution_count": 7,
     "metadata": {},
     "output_type": "execute_result"
    }
   ],
   "source": [
    "# math\n",
    "import math\n",
    "math.sqrt(25)"
   ]
  },
  {
   "cell_type": "code",
   "execution_count": 8,
   "id": "e506425d",
   "metadata": {},
   "outputs": [
    {
     "name": "stdout",
     "output_type": "stream",
     "text": [
      "['False', 'None', 'True', '__peg_parser__', 'and', 'as', 'assert', 'async', 'await', 'break', 'class', 'continue', 'def', 'del', 'elif', 'else', 'except', 'finally', 'for', 'from', 'global', 'if', 'import', 'in', 'is', 'lambda', 'nonlocal', 'not', 'or', 'pass', 'raise', 'return', 'try', 'while', 'with', 'yield']\n"
     ]
    }
   ],
   "source": [
    "# keyword\n",
    "import keyword\n",
    "print(keyword.kwlist)"
   ]
  },
  {
   "cell_type": "code",
   "execution_count": 10,
   "id": "f1498b00",
   "metadata": {},
   "outputs": [
    {
     "name": "stdout",
     "output_type": "stream",
     "text": [
      "98\n"
     ]
    }
   ],
   "source": [
    "# random\n",
    "import random\n",
    "print(random.randint(1,100))"
   ]
  },
  {
   "cell_type": "code",
   "execution_count": 22,
   "id": "90face85",
   "metadata": {},
   "outputs": [
    {
     "name": "stdout",
     "output_type": "stream",
     "text": [
      "2023-10-26 13:42:14.262450\n"
     ]
    }
   ],
   "source": [
    "# datetime\n",
    "import datetime\n",
    "print(datetime.datetime.now())"
   ]
  },
  {
   "cell_type": "code",
   "execution_count": 23,
   "id": "0317a92e",
   "metadata": {},
   "outputs": [
    {
     "name": "stdout",
     "output_type": "stream",
     "text": [
      "\n",
      "Please wait a moment while I gather a list of all available modules...\n",
      "\n"
     ]
    },
    {
     "name": "stderr",
     "output_type": "stream",
     "text": [
      "C:\\Users\\HP\\anaconda3\\anaconda_new_folder\\lib\\site-packages\\IPython\\kernel\\__init__.py:12: ShimWarning: The `IPython.kernel` package has been deprecated since IPython 4.0.You should import from ipykernel or jupyter_client instead.\n",
      "  warn(\"The `IPython.kernel` package has been deprecated since IPython 4.0.\"\n",
      "WARNING: AstropyDeprecationWarning: The private astropy._erfa module has been made into its own package, pyerfa, which is a dependency of astropy and can be imported directly using \"import erfa\" [astropy._erfa]\n",
      "C:\\Users\\HP\\anaconda3\\anaconda_new_folder\\lib\\pkgutil.py:93: MatplotlibDeprecationWarning: \n",
      "The matplotlib.compat module was deprecated in Matplotlib 3.3 and will be removed two minor releases later.\n",
      "  __import__(info.name)\n",
      "C:\\Users\\HP\\anaconda3\\anaconda_new_folder\\lib\\site-packages\\nltk\\twitter\\__init__.py:20: UserWarning: The twython library has not been installed. Some functionality from the twitter package will not be available.\n",
      "  warnings.warn(\n",
      "QSS file sucessfuly loaded.\n",
      "Found application patches to be applied.\n",
      "No QCoreApplication instance found. Application patches not applied. You have to call load_stylesheet function after instantiation of QApplication to take effect. \n",
      "C:\\Users\\HP\\anaconda3\\anaconda_new_folder\\lib\\pkgutil.py:108: VisibleDeprecationWarning: zmq.eventloop.minitornado is deprecated in pyzmq 14.0 and will be removed.\n",
      "    Install tornado itself to use zmq with the tornado IOLoop.\n",
      "    \n",
      "  yield from walk_packages(path, info.name+'.', onerror)\n"
     ]
    },
    {
     "name": "stdout",
     "output_type": "stream",
     "text": [
      "Cython              codeop              modulefinder        soupsieve\n",
      "IPython             collections         more_itertools      sphinx\n",
      "OpenSSL             colorama            mpmath              sphinxcontrib\n",
      "PIL                 colorsys            msgpack             spyder\n",
      "PyQt5               commctrl            msilib              spyder_kernels\n",
      "TBB                 compileall          msvcrt              sqlalchemy\n",
      "__future__          comtypes            multipledispatch    sqlite3\n",
      "_abc                concurrent          multiprocessing     sre_compile\n",
      "_aix_support        conda               munkres             sre_constants\n",
      "_ast                conda_build         mypy_extensions     sre_parse\n",
      "_asyncio            conda_content_trust nacl                ssl\n",
      "_bisect             conda_env           navigator_updater   sspi\n",
      "_black_version      conda_pack          nbclassic           sspicon\n",
      "_blake2             conda_package_handling nbclient            stat\n",
      "_bootlocale         conda_token         nbconvert           statistics\n",
      "_bootsubprocess     conda_verify        nbformat            statsmodels\n",
      "_bz2                configparser        nest_asyncio        storemagic\n",
      "_cffi_backend       contextlib          netbios             string\n",
      "_codecs             contextlib2         netrc               stringprep\n",
      "_codecs_cn          contextvars         networkx            struct\n",
      "_codecs_hk          cookiecutter        nltk                subprocess\n",
      "_codecs_iso2022     copy                nntplib             sunau\n",
      "_codecs_jp          copyreg             nose                symbol\n",
      "_codecs_kr          crypt               notebook            sympy\n",
      "_codecs_tw          cryptography        nt                  sympyprinting\n",
      "_collections        csv                 ntpath              symtable\n",
      "_collections_abc    ctypes              ntsecuritycon       sys\n",
      "_compat_pickle      curl                nturl2path          sysconfig\n",
      "_compression        curses              numba               tables\n",
      "_contextvars        cwp                 numbers             tabnanny\n",
      "_csv                cycler              numexpr             tarfile\n",
      "_ctypes             cython              numpy               tbb\n",
      "_ctypes_test        cythonmagic         numpydoc            tblib\n",
      "_daal4py            cytoolz             odbc                telnetlib\n",
      "_datetime           daal4py             olefile             tempfile\n",
      "_decimal            dask                onedal              terminado\n",
      "_distutils_hack     dataclasses         opcode              test\n",
      "_elementtree        datetime            openpyxl            test_data\n",
      "_functools          dateutil            operator            test_pycosat\n",
      "_hashlib            dbi                 optparse            testpath\n",
      "_heapq              dbm                 os                  tests\n",
      "_imp                dde                 packaging           text_unidecode\n",
      "_io                 debugpy             pandas              textdistance\n",
      "_json               decimal             pandocfilters       textwrap\n",
      "_locale             decorator           paramiko            this\n",
      "_lsprof             defusedxml          parser              threading\n",
      "_lzma               diff_match_patch    parso               threadpoolctl\n",
      "_markupbase         difflib             partd               three_merge\n",
      "_md5                dis                 past                tifffile\n",
      "_msi                distributed         path                time\n",
      "_multibytecodec     distutils           pathlib             timeit\n",
      "_multiprocessing    doctest             pathlib2            timer\n",
      "_nsis               docutils            pathspec            tinycss\n",
      "_onedal4py_host     email               patsy               tkinter\n",
      "_opcode             encodings           pdb                 tlz\n",
      "_operator           ensurepip           pep8                token\n",
      "_osx_support        entrypoints         perfmon             tokenize\n",
      "_overlapped         enum                pexpect             toml\n",
      "_peg_parser         erfa                pickle              toolz\n",
      "_pickle             errno               pickleshare         tornado\n",
      "_py_abc             et_xmlfile          pickletools         tqdm\n",
      "_pydecimal          fastcache           pip                 trace\n",
      "_pyio               faulthandler        pipes               traceback\n",
      "_pyrsistent_version filecmp             pkg_resources       tracemalloc\n",
      "_pytest             fileinput           pkginfo             traitlets\n",
      "_queue              filelock            pkgutil             tty\n",
      "_random             flake8              platform            turtle\n",
      "_sha1               flask               plistlib            turtledemo\n",
      "_sha256             fnmatch             pluggy              typed_ast\n",
      "_sha3               fontTools           ply                 types\n",
      "_sha512             formatter           poplib              typing\n",
      "_signal             fractions           posixpath           typing_extensions\n",
      "_sitebuiltins       fsspec              poyo                ujson\n",
      "_socket             ftplib              pprint              unicodecsv\n",
      "_sqlite3            functools           profile             unicodedata\n",
      "_sre                future              prometheus_client   unidecode\n",
      "_ssl                gc                  prompt_toolkit      unittest\n",
      "_stat               genericpath         pstats              urllib\n",
      "_statistics         getopt              psutil              urllib3\n",
      "_string             getpass             pty                 uu\n",
      "_strptime           gettext             ptyprocess          uuid\n",
      "_struct             gevent              pvectorc            venv\n",
      "_symtable           glob                py                  warnings\n",
      "_system_path        glob2               py_compile          watchdog\n",
      "_testbuffer         graphlib            pyclbr              wave\n",
      "_testcapi           greenlet            pycodestyle         wcwidth\n",
      "_testconsole        gzip                pycosat             weakref\n",
      "_testimportmultiple h5py                pycparser           webbrowser\n",
      "_testinternalcapi   hashlib             pycurl              webencodings\n",
      "_testmultiphase     heapdict            pydoc               werkzeug\n",
      "_thread             heapq               pydoc_data          wheel\n",
      "_threading_local    hmac                pydocstyle          whichcraft\n",
      "_tkinter            html                pyexpat             widgetsnbextension\n",
      "_tracemalloc        html5lib            pyflakes            win2kras\n",
      "_uuid               http                pygments            win32api\n",
      "_warnings           idlelib             pylab               win32clipboard\n",
      "_weakref            idna                pylint              win32com\n",
      "_weakrefset         imagecodecs         pyls_spyder         win32con\n",
      "_win32sysloader     imageio             pylsp               win32console\n",
      "_winapi             imagesize           pylsp_black         win32cred\n",
      "_winxptheme         imaplib             pylsp_jsonrpc       win32crypt\n",
      "_xxsubinterpreters  imghdr              pyodbc              win32cryptcon\n",
      "_yaml               imp                 pyparsing           win32ctypes\n",
      "_zoneinfo           importlib           pyreadline          win32event\n",
      "abc                 importlib_metadata  pyrsistent          win32evtlog\n",
      "adodbapi            inflection          pytest              win32evtlogutil\n",
      "afxres              iniconfig           pythoncom           win32file\n",
      "aifc                inspect             pytz                win32gui\n",
      "alabaster           intervaltree        pywin               win32gui_struct\n",
      "anaconda_navigator  io                  pywin32_bootstrap   win32help\n",
      "anaconda_project    ipaddress           pywin32_testutil    win32inet\n",
      "antigravity         ipykernel           pywintypes          win32inetcon\n",
      "anyio               ipykernel_launcher  pywt                win32job\n",
      "appdirs             ipython_genutils    pyximport           win32lz\n",
      "argh                ipywidgets          qdarkstyle          win32net\n",
      "argon2              isapi               qstylizer           win32netcon\n",
      "argparse            isort               qtawesome           win32pdh\n",
      "array               isympy              qtconsole           win32pdhquery\n",
      "arrow               itertools           qtpy                win32pdhutil\n",
      "asn1crypto          itsdangerous        queue               win32pipe\n",
      "ast                 jdcal               quopri              win32print\n",
      "astroid             jedi                random              win32process\n",
      "astropy             jinja2              rasutil             win32profile\n",
      "async_generator     jinja2_time         re                  win32ras\n",
      "asynchat            joblib              readline            win32rcparser\n",
      "asyncio             json                regcheck            win32security\n",
      "asyncore            json5               regex               win32service\n",
      "atexit              jsonschema          regutil             win32serviceutil\n",
      "atomicwrites        jupyter             repo_cli            win32timezone\n",
      "attr                jupyter_client      reprlib             win32trace\n",
      "audioop             jupyter_console     requests            win32traceutil\n",
      "autopep8            jupyter_core        rlcompleter         win32transaction\n",
      "autoreload          jupyter_server      rmagic              win32ts\n",
      "babel               jupyterlab          rope                win32ui\n",
      "backcall            jupyterlab_pygments rtree               win32uiole\n",
      "backports           jupyterlab_server   ruamel_yaml         win32verstamp\n",
      "base64              jupyterlab_widgets  run                 win32wnet\n",
      "bcrypt              jupyterthemes       runpy               win_inet_pton\n",
      "bdb                 jwt                 sched               win_unicode_console\n",
      "binaryornot         keyring             scipy               wincertstore\n",
      "binascii            keyword             scripts             winerror\n",
      "binhex              kiwisolver          seaborn             winioctlcon\n",
      "binstar_client      lazy_object_proxy   secrets             winnt\n",
      "bisect              lesscpy             select              winperf\n",
      "bitarray            lib2to3             selectors           winpty\n",
      "bkcharts            libarchive          send2trash          winreg\n",
      "black               libfuturize         servicemanager      winsound\n",
      "blackd              libpasteurize       setuptools          winxpgui\n",
      "bleach              lief                shelve              winxptheme\n",
      "blib2to3            linecache           shlex               wrapt\n",
      "bokeh               llvmlite            shutil              wsgiref\n",
      "boto                locale              signal              xdrlib\n",
      "bottleneck          locket              simplegeneric       xlrd\n",
      "brotli              logging             singledispatch      xlsxwriter\n",
      "bs4                 lxml                sip                 xlwings\n",
      "builtins            lzma                sipconfig           xlwt\n",
      "bz2                 mailbox             sipdistutils        xml\n",
      "cProfile            mailcap             site                xmlrpc\n",
      "cached_property     markupsafe          six                 xmltodict\n",
      "calendar            marshal             skimage             xxsubtype\n",
      "certifi             math                sklearn             yaml\n",
      "cffi                matplotlib          sklearnex           yapf\n",
      "cgi                 matplotlib_inline   slugify             yapftests\n",
      "cgitb               mccabe              smtpd               zict\n",
      "chardet             menuinst            smtplib             zipapp\n",
      "charset_normalizer  mimetypes           sndhdr              zipfile\n",
      "chunk               mistune             sniffio             zipimport\n",
      "click               mkl                 snowballstemmer     zipp\n",
      "cloudpickle         mkl_fft             socket              zlib\n",
      "clyent              mkl_random          socketserver        zmq\n",
      "cmath               mmap                socks               zoneinfo\n",
      "cmd                 mmapfile            sockshandler        zope\n",
      "code                mmsystem            sortedcollections   \n",
      "codecs              mock                sortedcontainers    \n",
      "\n",
      "Enter any module name to get more help.  Or, type \"modules spam\" to search\n",
      "for modules whose name or summary contain the string \"spam\".\n",
      "\n"
     ]
    }
   ],
   "source": [
    "help(\"modules\")"
   ]
  },
  {
   "cell_type": "code",
   "execution_count": 32,
   "id": "2db0482a",
   "metadata": {},
   "outputs": [
    {
     "name": "stdout",
     "output_type": "stream",
     "text": [
      "Enter number: 256\n",
      "13\n"
     ]
    }
   ],
   "source": [
    "# Loop in Python\n",
    "# Sum of all digits of a given number\n",
    "digit=int(input(\"Enter number: \"))\n",
    "new_digit=str(digit)\n",
    "sum=0\n",
    "for i in range(len(new_digit)):\n",
    "    a = new_digit[i]\n",
    "    sum= sum+int(a)\n",
    "\n",
    "print(sum)\n"
   ]
  },
  {
   "cell_type": "code",
   "execution_count": 35,
   "id": "430c852a",
   "metadata": {},
   "outputs": [
    {
     "name": "stdout",
     "output_type": "stream",
     "text": [
      "2010 - 10000\n",
      "2009 - 9090.90909090909\n",
      "2008 - 8264.462809917353\n",
      "2007 - 7513.148009015775\n",
      "2006 - 6830.134553650703\n",
      "2005 - 6209.213230591548\n",
      "2004 - 5644.739300537771\n",
      "2003 - 5131.5811823070635\n",
      "2002 - 4665.07380209733\n",
      "2001 - 4240.976183724845\n"
     ]
    }
   ],
   "source": [
    "# Program - The current population of a town is 10000.\n",
    "# The population of the town is increasing at the rate of 10% per year. You have to\n",
    "# write a program to find out the population at the end of each of the last 10 years.\n",
    "cur_pop=10000\n",
    "for i in range(2010,2000,-1):\n",
    "    print(i, '-',cur_pop)\n",
    "    cur_pop=cur_pop/1.1\n",
    "    "
   ]
  },
  {
   "cell_type": "code",
   "execution_count": null,
   "id": "2f9bb27d",
   "metadata": {},
   "outputs": [],
   "source": []
  }
 ],
 "metadata": {
  "kernelspec": {
   "display_name": "Python 3 (ipykernel)",
   "language": "python",
   "name": "python3"
  },
  "language_info": {
   "codemirror_mode": {
    "name": "ipython",
    "version": 3
   },
   "file_extension": ".py",
   "mimetype": "text/x-python",
   "name": "python",
   "nbconvert_exporter": "python",
   "pygments_lexer": "ipython3",
   "version": "3.9.7"
  }
 },
 "nbformat": 4,
 "nbformat_minor": 5
}
