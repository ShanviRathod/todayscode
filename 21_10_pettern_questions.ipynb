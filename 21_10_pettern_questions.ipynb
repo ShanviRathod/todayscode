{
 "cells": [
  {
   "cell_type": "raw",
   "id": "4ced1a70",
   "metadata": {},
   "source": [
    "# Print Alphabetic Pattern 1: Python\n",
    "# Output:-\n",
    "\n",
    "# A\n",
    "# AB\n",
    "# ABC\n",
    "# ABCD\n",
    "# ABCDE\n",
    "\n",
    "ASCII characters                                                                      ASCII value\n",
    "\n",
    "A-Z                                                                                               [65-90]\n",
    "a-z                                                                                                [97-122]\n",
    "0-9                                                                                                [48-57]\n",
    "Special symbols                                                         [0-47,58-64,91-96,123-127]\n",
    "\n",
    "# write code here:\n",
    "\n",
    "\n"
   ]
  },
  {
   "cell_type": "code",
   "execution_count": 1,
   "id": "1210a115",
   "metadata": {},
   "outputs": [
    {
     "name": "stdout",
     "output_type": "stream",
     "text": [
      "A\n"
     ]
    }
   ],
   "source": [
    "print(chr(65))"
   ]
  },
  {
   "cell_type": "code",
   "execution_count": 18,
   "id": "8906d3a9",
   "metadata": {},
   "outputs": [
    {
     "name": "stdout",
     "output_type": "stream",
     "text": [
      "A\n",
      "AB\n",
      "ABC\n",
      "ABCD\n",
      "ABCDE\n"
     ]
    }
   ],
   "source": [
    "for i in range(65,70):     # i=65,i=66,i=67,i=68,i=69\n",
    "    \n",
    "    for j in range(65,i+1):   # (65,65+1),(65,66+1),(65,67+1),......\n",
    "        print(chr(j), end=\"\")\n",
    "    print()    "
   ]
  },
  {
   "cell_type": "raw",
   "id": "eade2f28",
   "metadata": {},
   "source": [
    "pettern:2\n",
    "A\n",
    "BB\n",
    "CCC\n",
    "DDDD\n",
    "EEEEE\n"
   ]
  },
  {
   "cell_type": "code",
   "execution_count": 31,
   "id": "3dcf8de0",
   "metadata": {},
   "outputs": [
    {
     "name": "stdout",
     "output_type": "stream",
     "text": [
      "A\n",
      "BB\n",
      "CCC\n",
      "DDDD\n",
      "EEEEE\n"
     ]
    }
   ],
   "source": [
    "for i in range(65,70):\n",
    "    for j in range(65,i+1):\n",
    "        print(chr(i),end=\"\")\n",
    "    print()"
   ]
  },
  {
   "cell_type": "raw",
   "id": "33be6109",
   "metadata": {},
   "source": [
    "A\n",
    "BC\n",
    "CDE\n",
    "DEFG\n",
    "EFGHI"
   ]
  },
  {
   "cell_type": "code",
   "execution_count": 103,
   "id": "9ba956d1",
   "metadata": {},
   "outputs": [
    {
     "name": "stdout",
     "output_type": "stream",
     "text": [
      "A \n",
      "B C \n",
      "C D E \n",
      "D E F G \n",
      "E F G H I \n"
     ]
    }
   ],
   "source": [
    "for i in range(65,70):\n",
    "    k=i\n",
    "    for j in range(65,i+1):\n",
    "        print(chr(k), end=\" \")\n",
    "        k=k+1  #65,65+1,66+1.\n",
    "    print()\n",
    "      "
   ]
  },
  {
   "cell_type": "code",
   "execution_count": null,
   "id": "71b06ab2",
   "metadata": {},
   "outputs": [],
   "source": []
  }
 ],
 "metadata": {
  "kernelspec": {
   "display_name": "Python 3 (ipykernel)",
   "language": "python",
   "name": "python3"
  },
  "language_info": {
   "codemirror_mode": {
    "name": "ipython",
    "version": 3
   },
   "file_extension": ".py",
   "mimetype": "text/x-python",
   "name": "python",
   "nbconvert_exporter": "python",
   "pygments_lexer": "ipython3",
   "version": "3.9.7"
  }
 },
 "nbformat": 4,
 "nbformat_minor": 5
}
