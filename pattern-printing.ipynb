{
 "cells": [
  {
   "cell_type": "code",
   "execution_count": 4,
   "id": "34401d39",
   "metadata": {},
   "outputs": [
    {
     "name": "stdout",
     "output_type": "stream",
     "text": [
      "\n",
      "1 2 3 4 \n",
      "1 2 3 4 \n",
      "1 2 3 4 \n",
      "1 2 3 4 "
     ]
    }
   ],
   "source": [
    "i=1\n",
    "while i<5:\n",
    "    j=1\n",
    "    while j<5:\n",
    "        print(j,end=\" \")\n",
    "        j=j+1\n",
    "    print() # new line me krne k liye\n",
    "    i=i+1\n",
    "    "
   ]
  },
  {
   "cell_type": "code",
   "execution_count": 7,
   "id": "492c7963",
   "metadata": {},
   "outputs": [
    {
     "name": "stdout",
     "output_type": "stream",
     "text": [
      "enter num that how many rows do you want print5\n",
      "* \n",
      "* * \n",
      "* * * \n",
      "* * * * \n",
      "* * * * * \n"
     ]
    }
   ],
   "source": [
    "# using while loop\n",
    "num=int(input(\"enter num that how many rows do you want print\"))\n",
    "i=1\n",
    "while i<=num:\n",
    "    j=1\n",
    "    while j<=i:\n",
    "        print(\"*\",end=\" \")\n",
    "        j=j+1\n",
    "    print()\n",
    "    i=i+1\n",
    "    "
   ]
  },
  {
   "cell_type": "code",
   "execution_count": 3,
   "id": "cabc5583",
   "metadata": {},
   "outputs": [
    {
     "name": "stdout",
     "output_type": "stream",
     "text": [
      "enter num that how many rows do you want print5\n",
      "\n",
      "* \n",
      "* * \n",
      "* * * \n",
      "* * * * \n",
      "* * * * * "
     ]
    }
   ],
   "source": [
    "num=int(input(\"enter num that how many rows do you want print\"))\n",
    "for i in range(1,num+1):\n",
    "    print()  # for jump on next line\n",
    "    for j in range(1, i+1):\n",
    "        print(\"*\", end=' ')\n",
    "    "
   ]
  },
  {
   "cell_type": "code",
   "execution_count": 10,
   "id": "baeea2c7",
   "metadata": {},
   "outputs": [
    {
     "name": "stdout",
     "output_type": "stream",
     "text": [
      "\n",
      "1\n",
      "12\n",
      "123\n",
      "1234\n"
     ]
    }
   ],
   "source": [
    "i=1\n",
    "while i<=5:\n",
    "    j=1\n",
    "    while j<i:\n",
    "        print(j,end=\"\")\n",
    "        j=j+1\n",
    "    print()\n",
    "    i=i+1\n",
    "    "
   ]
  },
  {
   "cell_type": "code",
   "execution_count": 12,
   "id": "e3a87e10",
   "metadata": {},
   "outputs": [
    {
     "name": "stdout",
     "output_type": "stream",
     "text": [
      "1\n",
      "22\n",
      "333\n",
      "4444\n",
      "55555\n"
     ]
    }
   ],
   "source": [
    "i=1\n",
    "while i<=5:\n",
    "    j=1\n",
    "    while j<=i:\n",
    "        print(i,end=\"\")\n",
    "        j=j+1\n",
    "    print()\n",
    "    i=i+1\n",
    "    "
   ]
  },
  {
   "cell_type": "code",
   "execution_count": 9,
   "id": "103d74ca",
   "metadata": {},
   "outputs": [
    {
     "name": "stdout",
     "output_type": "stream",
     "text": [
      "enter num that how many rows do you want print5\n",
      "\n",
      "*\n",
      "***\n",
      "*****\n",
      "*******\n",
      "*********"
     ]
    }
   ],
   "source": [
    "# odd patterns using for loop\n",
    "num=int(input(\"enter num that how many rows do you want print\"))\n",
    "k=1\n",
    "for i in range(1,num+1):\n",
    "    print()                    # here print for new line\n",
    "    for j in range(1, k+1):\n",
    "        print(\"*\",end=\" \")\n",
    "    k=k+2"
   ]
  },
  {
   "cell_type": "code",
   "execution_count": 14,
   "id": "cb7bdb37",
   "metadata": {},
   "outputs": [
    {
     "name": "stdout",
     "output_type": "stream",
     "text": [
      "enter num that how many rows do you want print5\n",
      "\n",
      "*\n",
      "***\n",
      "*****\n",
      "*******\n",
      "*********"
     ]
    }
   ],
   "source": [
    "num=int(input(\"enter num that how many rows do you want print\"))\n",
    "i=1\n",
    "k=1\n",
    "while i<=num:\n",
    "    print() # here print for new line\n",
    "    j=1\n",
    "    while j<=k:\n",
    "        print(\"*\", end=\"\")\n",
    "        j=j+1\n",
    "    k=k+2\n",
    "    i=i+1"
   ]
  },
  {
   "cell_type": "code",
   "execution_count": 30,
   "id": "aed7a597",
   "metadata": {},
   "outputs": [
    {
     "name": "stdout",
     "output_type": "stream",
     "text": [
      "enter num that how many rows do you want print4\n",
      "\n",
      "   * \n",
      "  * * \n",
      " * * * \n",
      "* * * * "
     ]
    }
   ],
   "source": [
    "# piramid patterns me dono side end=\" \" me space dena hoga\n",
    "num=int(input(\"enter num that how many rows do you want print\"))\n",
    "for i in range(0,num):\n",
    "    print()\n",
    "    for j in range(0,num-i-1):\n",
    "        print(end=\" \")\n",
    "    for x in range(0,i+1):\n",
    "        print(\"*\", end=\" \")"
   ]
  },
  {
   "cell_type": "code",
   "execution_count": 16,
   "id": "fa48bb24",
   "metadata": {},
   "outputs": [
    {
     "data": {
      "text/plain": [
       "range(0, 1)"
      ]
     },
     "execution_count": 16,
     "metadata": {},
     "output_type": "execute_result"
    }
   ],
   "source": [
    "range(0,1)"
   ]
  },
  {
   "cell_type": "code",
   "execution_count": 17,
   "id": "079c6d6e",
   "metadata": {},
   "outputs": [
    {
     "name": "stdout",
     "output_type": "stream",
     "text": [
      "0\n"
     ]
    }
   ],
   "source": [
    "for i in range(0,1):\n",
    "    print(i)"
   ]
  },
  {
   "cell_type": "code",
   "execution_count": 4,
   "id": "c1b7f9ed",
   "metadata": {},
   "outputs": [
    {
     "name": "stdout",
     "output_type": "stream",
     "text": [
      "Enter number how many pattern rows do you want?: 5\n",
      "\n",
      "*\n",
      "**\n",
      "***\n",
      "****\n"
     ]
    }
   ],
   "source": [
    "# *\n",
    "# **\n",
    "# ***\n",
    "# ****\n",
    "num=int(input(\"Enter number how many pattern rows do you want?: \"))\n",
    "for i in range(num):\n",
    "    print(\"*\"*i)\n",
    "    "
   ]
  },
  {
   "cell_type": "code",
   "execution_count": 8,
   "id": "e8d507f6",
   "metadata": {},
   "outputs": [
    {
     "name": "stdout",
     "output_type": "stream",
     "text": [
      "Enter number how many pattern rows do you want?: 5\n",
      "\n",
      "\n",
      "*\n",
      "**\n",
      "***\n",
      "****"
     ]
    }
   ],
   "source": [
    "num=int(input(\"Enter number how many pattern rows do you want?: \"))\n",
    "for i in range(num):\n",
    "    print()\n",
    "    for j in range(i):\n",
    "        print(\"*\", end=\"\")"
   ]
  },
  {
   "cell_type": "code",
   "execution_count": 9,
   "id": "6c2271da",
   "metadata": {},
   "outputs": [
    {
     "name": "stdout",
     "output_type": "stream",
     "text": [
      "Enter number how many pattern rows do you want?: 5\n",
      "*\n",
      "**\n",
      "***\n",
      "****\n",
      "*****\n"
     ]
    }
   ],
   "source": [
    "num=int(input(\"Enter number how many pattern rows do you want?: \"))\n",
    "i=1\n",
    "while i<=num:\n",
    "    print(i*\"*\")\n",
    "    i=i+1"
   ]
  },
  {
   "cell_type": "code",
   "execution_count": 22,
   "id": "3a9d7ce8",
   "metadata": {},
   "outputs": [
    {
     "name": "stdout",
     "output_type": "stream",
     "text": [
      "Enter number how many pattern rows do you want?: 2\n",
      "\n",
      "1"
     ]
    }
   ],
   "source": [
    "num=int(input(\"Enter number how many pattern rows do you want?: \"))\n",
    "i=1\n",
    "\n",
    "while i<num:\n",
    "    print()\n",
    "    j=1\n",
    "    while j<num:\n",
    "        print(j,end='')\n",
    "        j=j+1\n",
    "    \n",
    "    i=i+1"
   ]
  },
  {
   "cell_type": "code",
   "execution_count": 19,
   "id": "73358093",
   "metadata": {},
   "outputs": [
    {
     "name": "stdout",
     "output_type": "stream",
     "text": [
      "Enter number how many pattern rows do you want?: 3\n",
      "1 2 \n",
      "1 2 \n",
      "1 2 \n"
     ]
    }
   ],
   "source": [
    "num=int(input(\"Enter number how many pattern rows do you want?: \"))\n",
    "i=0\n",
    "while i<num:\n",
    "    j=1\n",
    "    while j<num:\n",
    "        print(j,end=\" \")\n",
    "        j=j+1\n",
    "    print() # new line me krne k liye\n",
    "    i=i+1\n",
    "    "
   ]
  },
  {
   "cell_type": "code",
   "execution_count": 3,
   "id": "4d95fc5a",
   "metadata": {},
   "outputs": [
    {
     "name": "stdout",
     "output_type": "stream",
     "text": [
      "How manay rows do want to print? :5\n",
      "*\n",
      "**\n",
      "***\n",
      "****\n",
      "*****\n"
     ]
    }
   ],
   "source": [
    "num=int(input(\"How manay rows do want to print? :\"))\n",
    "for i in range(1,num+1):\n",
    "    print(\"*\"*i)"
   ]
  },
  {
   "cell_type": "code",
   "execution_count": 10,
   "id": "deca8076",
   "metadata": {
    "scrolled": true
   },
   "outputs": [
    {
     "name": "stdout",
     "output_type": "stream",
     "text": [
      "How manay rows do want to print? :5\n",
      "*\n",
      "**\n",
      "***\n",
      "****\n",
      "*****\n"
     ]
    }
   ],
   "source": [
    "num=int(input(\"How manay rows do want to print? :\"))\n",
    "i=1\n",
    "while i<num+1:\n",
    "    print(\"*\"*i)\n",
    "    i=i+1"
   ]
  },
  {
   "cell_type": "code",
   "execution_count": 23,
   "id": "ee7fb035",
   "metadata": {},
   "outputs": [
    {
     "name": "stdout",
     "output_type": "stream",
     "text": [
      "*\n",
      "**\n",
      "***\n",
      "****\n",
      "*****\n"
     ]
    }
   ],
   "source": [
    "for i in range(1,num+1):\n",
    "    for j in range(1,i+1):\n",
    "        print(\"*\", end='')\n",
    "    print()"
   ]
  },
  {
   "cell_type": "code",
   "execution_count": 22,
   "id": "78f080b0",
   "metadata": {},
   "outputs": [
    {
     "name": "stdout",
     "output_type": "stream",
     "text": [
      "\n",
      "*\n",
      "**\n",
      "***\n",
      "****\n",
      "*****"
     ]
    }
   ],
   "source": [
    "i=1\n",
    "while i<num+1:\n",
    "    print()\n",
    "    j=1\n",
    "    while j<i+1:\n",
    "        print(\"*\",end=\"\")\n",
    "        j=j+1\n",
    "    i=i+1"
   ]
  },
  {
   "cell_type": "code",
   "execution_count": null,
   "id": "8439e159",
   "metadata": {},
   "outputs": [],
   "source": []
  }
 ],
 "metadata": {
  "kernelspec": {
   "display_name": "Python 3 (ipykernel)",
   "language": "python",
   "name": "python3"
  },
  "language_info": {
   "codemirror_mode": {
    "name": "ipython",
    "version": 3
   },
   "file_extension": ".py",
   "mimetype": "text/x-python",
   "name": "python",
   "nbconvert_exporter": "python",
   "pygments_lexer": "ipython3",
   "version": "3.9.7"
  }
 },
 "nbformat": 4,
 "nbformat_minor": 5
}
