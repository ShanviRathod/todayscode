{
 "cells": [
  {
   "cell_type": "code",
   "execution_count": 9,
   "id": "a75775f8",
   "metadata": {},
   "outputs": [
    {
     "name": "stdout",
     "output_type": "stream",
     "text": [
      "Enter gussing number: 12\n",
      "86\n",
      "Guess higher!\n",
      "guess again: 20\n",
      "Guess higher!\n",
      "guess again: 60\n",
      "Guess higher!\n",
      "guess again: 90\n",
      "Guess lower\n",
      "guess again: 80\n",
      "Guess higher!\n",
      "guess again: 86\n"
     ]
    },
    {
     "data": {
      "text/plain": [
       "'finally you have been reached!'"
      ]
     },
     "execution_count": 9,
     "metadata": {},
     "output_type": "execute_result"
    }
   ],
   "source": [
    "import random\n",
    "jackpot_num=random.randint(1,100)\n",
    "user_num=int(input(\"Enter gussing number: \"))\n",
    "# print(jackpot_num)\n",
    "\n",
    "while user_num!=jackpot_num:\n",
    "    if user_num>jackpot_num:\n",
    "        print(\"Guess lower\")\n",
    "    elif user_num<jackpot_num:\n",
    "        print(\"Guess higher!\")\n",
    "    user_num=int(input(\"guess again: \"))\n",
    "    \n",
    "\"finally you have been reached!\""
   ]
  },
  {
   "cell_type": "code",
   "execution_count": null,
   "id": "b228198e",
   "metadata": {},
   "outputs": [],
   "source": []
  }
 ],
 "metadata": {
  "kernelspec": {
   "display_name": "Python 3 (ipykernel)",
   "language": "python",
   "name": "python3"
  },
  "language_info": {
   "codemirror_mode": {
    "name": "ipython",
    "version": 3
   },
   "file_extension": ".py",
   "mimetype": "text/x-python",
   "name": "python",
   "nbconvert_exporter": "python",
   "pygments_lexer": "ipython3",
   "version": "3.9.7"
  }
 },
 "nbformat": 4,
 "nbformat_minor": 5
}
