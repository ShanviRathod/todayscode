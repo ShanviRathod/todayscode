{
 "cells": [
  {
   "cell_type": "markdown",
   "id": "64478bf2",
   "metadata": {},
   "source": [
    "# List"
   ]
  },
  {
   "cell_type": "code",
   "execution_count": 1,
   "id": "a6031bfa",
   "metadata": {},
   "outputs": [
    {
     "name": "stdout",
     "output_type": "stream",
     "text": [
      "['Ram', 'savi']\n"
     ]
    },
    {
     "data": {
      "text/plain": [
       "list"
      ]
     },
     "execution_count": 1,
     "metadata": {},
     "output_type": "execute_result"
    }
   ],
   "source": [
    "name=['Ram',\"savi\"]\n",
    "print(name)\n",
    "type(name)"
   ]
  },
  {
   "cell_type": "code",
   "execution_count": 2,
   "id": "fcb17430",
   "metadata": {},
   "outputs": [
    {
     "name": "stdout",
     "output_type": "stream",
     "text": [
      "10\n"
     ]
    }
   ],
   "source": [
    "# wap to add all the number present in the list\n",
    "l=[1,2,3,4]\n",
    "m=0\n",
    "for i in l:\n",
    "    m=m+i\n",
    "print(m)\n"
   ]
  },
  {
   "cell_type": "code",
   "execution_count": 3,
   "id": "f56102f9",
   "metadata": {},
   "outputs": [
    {
     "name": "stdout",
     "output_type": "stream",
     "text": [
      "24\n"
     ]
    }
   ],
   "source": [
    "# wap to add all the number present in the list\n",
    "l=[1,2,3,4]\n",
    "m=1\n",
    "for i in l:\n",
    "    m=i*m\n",
    "print(m)"
   ]
  },
  {
   "cell_type": "markdown",
   "id": "bde5acb0",
   "metadata": {},
   "source": [
    "# Indexing and Slicing"
   ]
  },
  {
   "cell_type": "code",
   "execution_count": 4,
   "id": "a0622702",
   "metadata": {},
   "outputs": [],
   "source": [
    "# wap to find [\"bahuballi\",67.8,\"True\",False] the above data with help of -ve idexing"
   ]
  },
  {
   "cell_type": "code",
   "execution_count": 5,
   "id": "9152dbf3",
   "metadata": {},
   "outputs": [
    {
     "data": {
      "text/plain": [
       "['bahuballi', 67.8, 'True', False, 'Hello bhai']"
      ]
     },
     "execution_count": 5,
     "metadata": {},
     "output_type": "execute_result"
    }
   ],
   "source": [
    "x=[34, 89, 'python',\"bahuballi\",67.8,\"True\",False,\"Hello bhai\",False]\n",
    "x[3:-1]\n",
    "# x.index(alse)"
   ]
  },
  {
   "cell_type": "code",
   "execution_count": null,
   "id": "9847c278",
   "metadata": {},
   "outputs": [],
   "source": []
  },
  {
   "cell_type": "code",
   "execution_count": 7,
   "id": "5245ba5a",
   "metadata": {},
   "outputs": [
    {
     "data": {
      "text/plain": [
       "['bahuballi', 67.8, 'True', False, 'Hello bhai', False]"
      ]
     },
     "execution_count": 7,
     "metadata": {},
     "output_type": "execute_result"
    }
   ],
   "source": [
    "x[3:9]"
   ]
  },
  {
   "cell_type": "code",
   "execution_count": 8,
   "id": "4333de78",
   "metadata": {},
   "outputs": [
    {
     "data": {
      "text/plain": [
       "8"
      ]
     },
     "execution_count": 8,
     "metadata": {},
     "output_type": "execute_result"
    }
   ],
   "source": [
    "x.index(False,7)"
   ]
  },
  {
   "cell_type": "code",
   "execution_count": 9,
   "id": "ca4f96f0",
   "metadata": {},
   "outputs": [
    {
     "data": {
      "text/plain": [
       "[34, 'python', 67.8, False, False]"
      ]
     },
     "execution_count": 9,
     "metadata": {},
     "output_type": "execute_result"
    }
   ],
   "source": [
    "x[::2]"
   ]
  },
  {
   "cell_type": "code",
   "execution_count": 14,
   "id": "4ca3dc06",
   "metadata": {},
   "outputs": [],
   "source": [
    "list1=[23,45,\"Hello bhai\",\"SQL\"]\n",
    "list1[1:3]=[\"Shanvi\"]"
   ]
  },
  {
   "cell_type": "code",
   "execution_count": 15,
   "id": "dbc20863",
   "metadata": {},
   "outputs": [
    {
     "data": {
      "text/plain": [
       "[23, 'Shanvi', 'SQL']"
      ]
     },
     "execution_count": 15,
     "metadata": {},
     "output_type": "execute_result"
    }
   ],
   "source": [
    "list1"
   ]
  },
  {
   "cell_type": "code",
   "execution_count": 6,
   "id": "790a5fac",
   "metadata": {},
   "outputs": [],
   "source": [
    "list1=[23,45,\"Hello bhai\",\"SQL\",45,\"Ankit sir\"]"
   ]
  },
  {
   "cell_type": "code",
   "execution_count": 7,
   "id": "da7fe56f",
   "metadata": {},
   "outputs": [],
   "source": [
    "list1[1:3]=[55,\"Bahubali\",\"Guruji\",\"list\"]"
   ]
  },
  {
   "cell_type": "code",
   "execution_count": 8,
   "id": "b1b98f7d",
   "metadata": {},
   "outputs": [
    {
     "data": {
      "text/plain": [
       "[23, 55, 'Bahubali', 'Guruji', 'list', 'SQL', 45, 'Ankit sir']"
      ]
     },
     "execution_count": 8,
     "metadata": {},
     "output_type": "execute_result"
    }
   ],
   "source": [
    "list1"
   ]
  },
  {
   "cell_type": "markdown",
   "id": "04e15bfa",
   "metadata": {},
   "source": [
    "# Method of List"
   ]
  },
  {
   "cell_type": "markdown",
   "id": "63405b81",
   "metadata": {},
   "source": [
    "## append()\n",
    "# extend()\n",
    "# copy()\n",
    "# pop()\n",
    "# remove()\n",
    "# reverse()\n",
    "# index()\n",
    "# sort()\n"
   ]
  },
  {
   "cell_type": "code",
   "execution_count": 52,
   "id": "20e3613f",
   "metadata": {},
   "outputs": [
    {
     "name": "stdout",
     "output_type": "stream",
     "text": [
      "None\n"
     ]
    },
    {
     "data": {
      "text/plain": [
       "['bahuballi', 67.8, 'True', False, 'Hello bhai', False, 'shanvi Rathod']"
      ]
     },
     "execution_count": 52,
     "metadata": {},
     "output_type": "execute_result"
    }
   ],
   "source": [
    "libra=['bahuballi', 67.8, 'True', False, 'Hello bhai', False]\n",
    "print(libra.append(\"shanvi Rathod\"))\n",
    "libra"
   ]
  },
  {
   "cell_type": "code",
   "execution_count": 51,
   "id": "334a3535",
   "metadata": {},
   "outputs": [
    {
     "name": "stdout",
     "output_type": "stream",
     "text": [
      "None\n",
      "['bahuballi', 67.8, 'True', False, 'Hello bhai', False, 'meena', 'kamini', 245, 65.878]\n"
     ]
    }
   ],
   "source": [
    "list2=[\"meena\",\"kamini\",245,65.878]\n",
    "print(libra.extend(list2))\n",
    "print(libra)\n"
   ]
  },
  {
   "cell_type": "code",
   "execution_count": 53,
   "id": "bcee7f98",
   "metadata": {},
   "outputs": [
    {
     "name": "stdout",
     "output_type": "stream",
     "text": [
      "['bahuballi', 67.8, 'True', False, 'Hello bhai', False]\n",
      "['bahuballi', 67.8, 'True', False, 'Hello bhai', False]\n"
     ]
    }
   ],
   "source": [
    "libra=['bahuballi', 67.8, 'True', False, 'Hello bhai', False]\n",
    "print(libra.copy())\n",
    "print(libra)"
   ]
  },
  {
   "cell_type": "code",
   "execution_count": 50,
   "id": "3d23f261",
   "metadata": {},
   "outputs": [
    {
     "name": "stdout",
     "output_type": "stream",
     "text": [
      "shiyar\n",
      "['bahuballi', 67.8, 'True', False, 'Hello bhai', False]\n"
     ]
    }
   ],
   "source": [
    "libra=['bahuballi', 67.8, 'True', False, 'Hello bhai', False,\"shiyar\"]\n",
    "print(libra.pop())\n",
    "print(libra)"
   ]
  },
  {
   "cell_type": "code",
   "execution_count": 56,
   "id": "f28f14bd",
   "metadata": {},
   "outputs": [
    {
     "name": "stdout",
     "output_type": "stream",
     "text": [
      "None\n",
      "[67.8, 'True', False, 'Hello bhai', False, 'shiyar']\n"
     ]
    }
   ],
   "source": [
    "libra=['bahuballi', 67.8, 'True', False, 'Hello bhai', False,\"shiyar\"]\n",
    "print(libra.remove(\"bahuballi\"))\n",
    "print(libra)"
   ]
  },
  {
   "cell_type": "code",
   "execution_count": 60,
   "id": "319e8ef9",
   "metadata": {},
   "outputs": [
    {
     "name": "stdout",
     "output_type": "stream",
     "text": [
      "None\n",
      "['sahiyar', False, 'Hello bhai', False, 'True', 67.8, 'bahuballi']\n"
     ]
    }
   ],
   "source": [
    "libra=['bahuballi', 67.8, 'True', False, 'Hello bhai', False,\"sahiyar\"]\n",
    "print(libra.reverse())\n",
    "print(libra)"
   ]
  },
  {
   "cell_type": "code",
   "execution_count": 66,
   "id": "ee03227e",
   "metadata": {},
   "outputs": [
    {
     "name": "stdout",
     "output_type": "stream",
     "text": [
      "6\n"
     ]
    }
   ],
   "source": [
    "libra=['bahuballi', 67.8, 'True', False, 'Hello bhai', False,\"shiyar\"]\n",
    "print(libra.index(\"shiyar\"))\n"
   ]
  },
  {
   "cell_type": "code",
   "execution_count": 67,
   "id": "209b87e5",
   "metadata": {},
   "outputs": [
    {
     "ename": "TypeError",
     "evalue": "'<' not supported between instances of 'float' and 'str'",
     "output_type": "error",
     "traceback": [
      "\u001b[1;31m---------------------------------------------------------------------------\u001b[0m",
      "\u001b[1;31mTypeError\u001b[0m                                 Traceback (most recent call last)",
      "\u001b[1;32m~\\AppData\\Local\\Temp/ipykernel_20300/1617727399.py\u001b[0m in \u001b[0;36m<module>\u001b[1;34m\u001b[0m\n\u001b[0;32m      1\u001b[0m \u001b[0mlibra\u001b[0m\u001b[1;33m=\u001b[0m\u001b[1;33m[\u001b[0m\u001b[1;34m'bahuballi'\u001b[0m\u001b[1;33m,\u001b[0m \u001b[1;36m67.8\u001b[0m\u001b[1;33m,\u001b[0m \u001b[1;34m'True'\u001b[0m\u001b[1;33m,\u001b[0m \u001b[1;32mFalse\u001b[0m\u001b[1;33m,\u001b[0m \u001b[1;34m'Hello bhai'\u001b[0m\u001b[1;33m,\u001b[0m \u001b[1;32mFalse\u001b[0m\u001b[1;33m,\u001b[0m\u001b[1;34m\"shiyar\"\u001b[0m\u001b[1;33m]\u001b[0m\u001b[1;33m\u001b[0m\u001b[1;33m\u001b[0m\u001b[0m\n\u001b[1;32m----> 2\u001b[1;33m \u001b[0mlibra\u001b[0m\u001b[1;33m.\u001b[0m\u001b[0msort\u001b[0m\u001b[1;33m(\u001b[0m\u001b[1;33m)\u001b[0m\u001b[1;33m\u001b[0m\u001b[1;33m\u001b[0m\u001b[0m\n\u001b[0m",
      "\u001b[1;31mTypeError\u001b[0m: '<' not supported between instances of 'float' and 'str'"
     ]
    }
   ],
   "source": [
    "libra=['bahuballi', 67.8, 'True', False, 'Hello bhai', False,\"shiyar\"]\n",
    "libra.sort()"
   ]
  },
  {
   "cell_type": "code",
   "execution_count": 78,
   "id": "7325f793",
   "metadata": {},
   "outputs": [
    {
     "name": "stdout",
     "output_type": "stream",
     "text": [
      "None\n",
      "[-89.98, -65, 0, 1, 1, 2, 3, 6, 12, 45, 78, 126, 4521]\n"
     ]
    }
   ],
   "source": [
    "# sort by defualt Ascending order order me chalta he\n",
    "int_list=[1,126,-65,78,4521,0,-89.98,12,1,2,3,6,45,]\n",
    "print(int_list.sort())\n",
    "print(int_list)"
   ]
  },
  {
   "cell_type": "code",
   "execution_count": 80,
   "id": "69eb0344",
   "metadata": {},
   "outputs": [
    {
     "name": "stdout",
     "output_type": "stream",
     "text": [
      "[4521, 126, 78, 45, 12, 6, 3, 2, 1, 1, 0, -65, -89.98]\n"
     ]
    }
   ],
   "source": [
    "#sort ko Descending order me lane k liye\n",
    "int_list=[1,126,-65,78,4521,0,-89.98,12,1,2,3,6,45,]\n",
    "int_list.sort(reverse=True)\n",
    "print(int_list)"
   ]
  },
  {
   "cell_type": "code",
   "execution_count": 79,
   "id": "01130a12",
   "metadata": {},
   "outputs": [
    {
     "name": "stdout",
     "output_type": "stream",
     "text": [
      "None\n",
      "['!', '$', '%', '*', '1', '2', '@', 'A', 'B', 'C', 'a', 'b', 'c', 'd']\n"
     ]
    }
   ],
   "source": [
    "str_list=[\"a\",\"b\",\"c\",\"d\",\"A\",\"B\",\"C\",\"@\",\"%\",\"!\",\"*\",\"$\",\"1\",\"2\"]\n",
    "print(str_list.sort())\n",
    "print(str_list)"
   ]
  },
  {
   "cell_type": "code",
   "execution_count": 86,
   "id": "d2bc5ffc",
   "metadata": {},
   "outputs": [
    {
     "name": "stdout",
     "output_type": "stream",
     "text": [
      "Enter Num=45\n"
     ]
    },
    {
     "ename": "TypeError",
     "evalue": "'int' object is not iterable",
     "output_type": "error",
     "traceback": [
      "\u001b[1;31m---------------------------------------------------------------------------\u001b[0m",
      "\u001b[1;31mTypeError\u001b[0m                                 Traceback (most recent call last)",
      "\u001b[1;32m~\\AppData\\Local\\Temp/ipykernel_20300/3797498367.py\u001b[0m in \u001b[0;36m<module>\u001b[1;34m\u001b[0m\n\u001b[0;32m      2\u001b[0m \u001b[0mnum\u001b[0m\u001b[1;33m=\u001b[0m\u001b[0mint\u001b[0m\u001b[1;33m(\u001b[0m\u001b[0minput\u001b[0m\u001b[1;33m(\u001b[0m\u001b[1;34m\"Enter Num=\"\u001b[0m\u001b[1;33m)\u001b[0m\u001b[1;33m)\u001b[0m\u001b[1;33m\u001b[0m\u001b[1;33m\u001b[0m\u001b[0m\n\u001b[0;32m      3\u001b[0m \u001b[0mpali_num\u001b[0m\u001b[1;33m=\u001b[0m\u001b[1;36m0\u001b[0m\u001b[1;33m\u001b[0m\u001b[1;33m\u001b[0m\u001b[0m\n\u001b[1;32m----> 4\u001b[1;33m \u001b[1;32mfor\u001b[0m \u001b[0mi\u001b[0m \u001b[1;32min\u001b[0m \u001b[0mnum\u001b[0m\u001b[1;33m:\u001b[0m\u001b[1;33m\u001b[0m\u001b[1;33m\u001b[0m\u001b[0m\n\u001b[0m\u001b[0;32m      5\u001b[0m     \u001b[0mpali_num\u001b[0m\u001b[1;33m=\u001b[0m\u001b[0mnum\u001b[0m\u001b[1;33m//\u001b[0m\u001b[1;36m10\u001b[0m\u001b[1;33m\u001b[0m\u001b[1;33m\u001b[0m\u001b[0m\n\u001b[0;32m      6\u001b[0m \u001b[0mprint\u001b[0m\u001b[1;33m(\u001b[0m\u001b[0mpali_num\u001b[0m\u001b[1;33m)\u001b[0m\u001b[1;33m\u001b[0m\u001b[1;33m\u001b[0m\u001b[0m\n",
      "\u001b[1;31mTypeError\u001b[0m: 'int' object is not iterable"
     ]
    }
   ],
   "source": [
    "# is num palindrome or not palindrome\n",
    "num=int(input(\"Enter Num=\"))\n",
    "pali_num=0\n",
    "for i in num:\n",
    "    pali_num=num//10\n",
    "print(pali_num)    \n",
    "    "
   ]
  },
  {
   "cell_type": "code",
   "execution_count": 89,
   "id": "3c6bc827",
   "metadata": {},
   "outputs": [
    {
     "name": "stdout",
     "output_type": "stream",
     "text": [
      "Enter Num=24\n",
      "2\n",
      "0\n"
     ]
    }
   ],
   "source": [
    "num=int(input(\"Enter Num=\"))\n",
    "while num>0:\n",
    "    dig=num%10\n",
    "    rev=rev*10+dig\n",
    "    num=num//10\n",
    "    print(num)    "
   ]
  },
  {
   "cell_type": "code",
   "execution_count": null,
   "id": "cacb1be6",
   "metadata": {},
   "outputs": [],
   "source": [
    "n=int(input(\"Enter number:\"))\n",
    "temp=n\n",
    "rev=0\n",
    "while(n>0):\n",
    "    dig=n%10\n",
    "    rev=rev*10+dig\n",
    "    n=n//10\n",
    "if(temp==rev):\n",
    "    print(\"The number is a palindrome!\")\n",
    "else:\n",
    "    print(\"The number isn't a palindrome!\")"
   ]
  }
 ],
 "metadata": {
  "kernelspec": {
   "display_name": "Python 3 (ipykernel)",
   "language": "python",
   "name": "python3"
  },
  "language_info": {
   "codemirror_mode": {
    "name": "ipython",
    "version": 3
   },
   "file_extension": ".py",
   "mimetype": "text/x-python",
   "name": "python",
   "nbconvert_exporter": "python",
   "pygments_lexer": "ipython3",
   "version": "3.9.7"
  }
 },
 "nbformat": 4,
 "nbformat_minor": 5
}
