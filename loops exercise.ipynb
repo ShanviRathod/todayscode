{
 "cells": [
  {
   "cell_type": "code",
   "execution_count": 1,
   "id": "9c35f682",
   "metadata": {},
   "outputs": [],
   "source": [
    "# Exercise 1: Print First 10 natural numbers using while loop\n",
    "# Exercise 2: Print the following pattern\n",
    "# Exercise 3: Calculate the sum of all numbers from 1 to a given number\n",
    "# Exercise 4: Write a program to print multiplication table of a given number\n",
    "# Exercise 5: Display numbers from a list using loop\n",
    "# Exercise 6: Count the total number of digits in a number\n",
    "# Exercise 7: Print the following pattern\n",
    "# Exercise 8: Print list in reverse order using a loop\n",
    "# Exercise 9: Display numbers from -10 to -1 using for loop\n",
    "# Exercise 10: Use else block to display a message “Done” after successful execution of for loop\n",
    "# Exercise 11: Write a program to display all prime numbers within a range\n",
    "# Exercise 12: Display Fibonacci series up to 10 terms\n",
    "# Exercise 13: Find the factorial of a given number\n",
    "# Exercise 14: Reverse a given integer number\n",
    "# Exercise 15: Use a loop to display elements from a given list present at odd index positions\n",
    "# Exercise 16: Calculate the cube of all numbers from 1 to a given number\n",
    "# Exercise 17: Find the sum of the series upto n terms\n",
    "# Exercise 18: Print the following pattern"
   ]
  },
  {
   "cell_type": "code",
   "execution_count": 2,
   "id": "683d12b9",
   "metadata": {},
   "outputs": [
    {
     "name": "stdout",
     "output_type": "stream",
     "text": [
      "1\n",
      "2\n",
      "3\n",
      "4\n",
      "5\n",
      "6\n",
      "7\n",
      "8\n",
      "9\n",
      "10\n"
     ]
    }
   ],
   "source": [
    "# Exercise 1: Print First 10 natural numbers using while loop\n",
    "x=1\n",
    "while x<11:\n",
    "    print(x)\n",
    "    x=x+1"
   ]
  },
  {
   "cell_type": "code",
   "execution_count": 16,
   "id": "cf06625d",
   "metadata": {},
   "outputs": [
    {
     "name": "stdout",
     "output_type": "stream",
     "text": [
      "give Number=1256\n",
      "Total Number= 4\n"
     ]
    }
   ],
   "source": [
    "# 18.Count the total number of digits in a number\n",
    "num=int(input(\"give Number=\"))\n",
    "digit_count=0\n",
    "while num != 0:\n",
    "    num=num//10\n",
    "    digit_count=digit_count+1\n",
    "print(\"Total Number=\",digit_count)"
   ]
  },
  {
   "cell_type": "code",
   "execution_count": 4,
   "id": "496f2f60",
   "metadata": {},
   "outputs": [
    {
     "name": "stdout",
     "output_type": "stream",
     "text": [
      "Enter num=:2\n",
      "3\n"
     ]
    }
   ],
   "source": [
    "# 15.Calculate the sum of all numbers from 1 to n given number\n",
    "\n",
    "given_num=int(input(\"Enter num=:\"))\n",
    "sum_given_num=0\n",
    "\n",
    "for i in range(1,given_num+1):\n",
    "    sum_given_num = sum_given_num+i\n",
    "print(sum_given_num)\n"
   ]
  },
  {
   "cell_type": "code",
   "execution_count": 5,
   "id": "50b5314b",
   "metadata": {},
   "outputs": [
    {
     "name": "stdout",
     "output_type": "stream",
     "text": [
      "Given Table Number=2\n",
      "2\n",
      "4\n",
      "6\n",
      "8\n",
      "10\n",
      "12\n",
      "14\n",
      "16\n",
      "18\n",
      "20\n"
     ]
    }
   ],
   "source": [
    "# 16.Write a program to print multiplication table of a given number\n",
    "table=int(input(\"Given Table Number=\"))\n",
    "for i in range(1,11):\n",
    "    print(table*i)"
   ]
  },
  {
   "cell_type": "code",
   "execution_count": 6,
   "id": "a06a9141",
   "metadata": {},
   "outputs": [
    {
     "name": "stdout",
     "output_type": "stream",
     "text": [
      "14\n",
      "24\n",
      "34\n",
      "44\n",
      "54\n",
      "64\n"
     ]
    }
   ],
   "source": [
    "# 17.Display numbers from a list using loop\n",
    "a=[14,24,34,44,54,64]\n",
    "for i in range(len(a)):\n",
    "    print(a[i])"
   ]
  },
  {
   "cell_type": "code",
   "execution_count": 7,
   "id": "f0c76eb1",
   "metadata": {},
   "outputs": [
    {
     "name": "stdout",
     "output_type": "stream",
     "text": [
      "apple\n",
      "banana\n",
      "cherry\n"
     ]
    }
   ],
   "source": [
    "thislist = [\"apple\", \"banana\", \"cherry\"]\n",
    "for i in range(len(thislist)):\n",
    "    print(thislist[i])"
   ]
  },
  {
   "cell_type": "code",
   "execution_count": null,
   "id": "2dc3ced8",
   "metadata": {},
   "outputs": [],
   "source": []
  }
 ],
 "metadata": {
  "kernelspec": {
   "display_name": "Python 3 (ipykernel)",
   "language": "python",
   "name": "python3"
  },
  "language_info": {
   "codemirror_mode": {
    "name": "ipython",
    "version": 3
   },
   "file_extension": ".py",
   "mimetype": "text/x-python",
   "name": "python",
   "nbconvert_exporter": "python",
   "pygments_lexer": "ipython3",
   "version": "3.9.7"
  }
 },
 "nbformat": 4,
 "nbformat_minor": 5
}
