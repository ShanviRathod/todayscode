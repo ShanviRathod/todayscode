{
 "cells": [
  {
   "cell_type": "markdown",
   "id": "bd6af50f",
   "metadata": {},
   "source": [
    "# Asignment of condition"
   ]
  },
  {
   "cell_type": "code",
   "execution_count": 5,
   "id": "391ef09a",
   "metadata": {},
   "outputs": [
    {
     "name": "stdout",
     "output_type": "stream",
     "text": [
      "Enter user salary----: 1500\n",
      "Enter your service year------:4\n",
      "No Bonus!\n",
      "total salary=: 1500\n"
     ]
    }
   ],
   "source": [
    "# Q1. A company desided to give bonus of 5% to employee\n",
    "# if his/her year of service is more than 5 years.\n",
    "# ask your user for their salary \n",
    "# and year of service\n",
    "# and print the net bonus amount.\n",
    "# also print the Exact amount/ total salary recived by the user\n",
    "\n",
    "salary=int(input(\"Enter user salary----: \"))\n",
    "service_year=int(input(\"Enter your service year------:\"))\n",
    "bonus= (salary*5)/100\n",
    "Bonus_candidate_Total_salary= salary+ bonus\n",
    "Without_bonus_candidate_Total_salary= salary\n",
    "\n",
    "\n",
    "if service_year>5:\n",
    "    \n",
    "#     bonus= salary * 0.05\n",
    "    print(\"your Net Bonus Amount----: \",bonus)\n",
    "    print( \"Total salary=:\",Bonus_candidate_Total_salary)\n",
    "else:\n",
    "    print('No Bonus!')\n",
    "    print(\"total salary=:\",Without_bonus_candidate_Total_salary)\n",
    "\n",
    "    \n"
   ]
  },
  {
   "cell_type": "code",
   "execution_count": 6,
   "id": "a87dc39f",
   "metadata": {},
   "outputs": [
    {
     "name": "stdout",
     "output_type": "stream",
     "text": [
      "enter length=15\n",
      "enter breadth=12\n",
      "Rectangle!\n"
     ]
    }
   ],
   "source": [
    "# Q2. Take value of length and breadth of a rectangle from user\n",
    "# and check if it is square or not\n",
    "\n",
    "# length=int(input('enter length='))\n",
    "# breadth=int(input('enter breadth='))\n",
    "length= float(input('enter length='))\n",
    "breadth= float(input('enter breadth='))\n",
    "\n",
    "\n",
    "if length==breadth:\n",
    "    print(\"Square!\")\n",
    "else:\n",
    "    print(\"Rectangle!\")"
   ]
  },
  {
   "cell_type": "code",
   "execution_count": 7,
   "id": "86239283",
   "metadata": {},
   "outputs": [
    {
     "name": "stdout",
     "output_type": "stream",
     "text": [
      "Enter A value15\n",
      "Enter B value65\n",
      "Enter C value45\n",
      "value of B is gratest value\n"
     ]
    }
   ],
   "source": [
    "# Q3. Take three int value from user\n",
    "# and print greatest value\n",
    "\n",
    "a= int(input('Enter A value'))\n",
    "b= int(input('Enter B value'))\n",
    "c= int(input('Enter C value'))\n",
    "if a>b and a>c:\n",
    "    print('value of A is gratest value')\n",
    "elif b>a and b>c :\n",
    "    print('value of B is gratest value')\n",
    "elif c>a and c>b:\n",
    "    print('value of C is gratest value')\n",
    "else:\n",
    "    print('all value are equal')\n"
   ]
  },
  {
   "cell_type": "code",
   "execution_count": null,
   "id": "c3dea83d",
   "metadata": {},
   "outputs": [],
   "source": []
  },
  {
   "cell_type": "code",
   "execution_count": null,
   "id": "07aca000",
   "metadata": {},
   "outputs": [],
   "source": []
  },
  {
   "cell_type": "code",
   "execution_count": null,
   "id": "993d0389",
   "metadata": {},
   "outputs": [],
   "source": []
  }
 ],
 "metadata": {
  "kernelspec": {
   "display_name": "Python 3 (ipykernel)",
   "language": "python",
   "name": "python3"
  },
  "language_info": {
   "codemirror_mode": {
    "name": "ipython",
    "version": 3
   },
   "file_extension": ".py",
   "mimetype": "text/x-python",
   "name": "python",
   "nbconvert_exporter": "python",
   "pygments_lexer": "ipython3",
   "version": "3.9.7"
  }
 },
 "nbformat": 4,
 "nbformat_minor": 5
}
